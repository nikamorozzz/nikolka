{
 "cells": [
  {
   "cell_type": "markdown",
   "metadata": {},
   "source": [
    "# Интернет-магазин \"Стримчик\": что делает игры успешными\n",
    "\n",
    "#### В нашем распоряжении – исторические открытые данные о продажах компьютерных игр, оценках пользователей и экспертов, жанрах и платформах (например, Xbox или PlayStation). По заказу интернет-магазина \"Стримчик\", международного продавца компьютерных игр, необходимо выявить – что определяет успех игры. Результаты помогут \"Стримчику\" оптимизировать свою работу (спланировать рекламные бюджеты), и делать ставки на потенциально популярный продукт.\n",
    "\n",
    "##### Часть 1. Изучение общей информации\n",
    "* [1.1 Изученеие файла с данными, загрузка библиотек](#1-bullet)\n",
    "* [1.2 Определение и изучение пропущенных значений](#2-bullet)\n",
    "\n",
    "##### Часть 2. Подготовка данных\n",
    "* [2.1 Обработка пропусков и приведение данных к нужным типам](#3-bullet)\n",
    "\n",
    "##### Часть 3. Анализ\n",
    "* [3.1 Выбираем актуальную информацию и ищем лидеров](#4-bullet)\n",
    "* [3.2 Портреты пользователей: Европа, Северная Америка, Япония](#5-bullet)\n",
    "* [3.3 Проверка гипотез](#6-bullet)\n",
    "\n",
    "##### [Выводы](#7-bullet)"
   ]
  },
  {
   "cell_type": "markdown",
   "metadata": {},
   "source": [
    "### Часть 1. Изучение общей информации\n",
    "<a id='1-bullet'></a>\n",
    "#### 1.1 Обзор файлов с данными, загрузка библиотек"
   ]
  },
  {
   "cell_type": "code",
   "execution_count": 1,
   "metadata": {},
   "outputs": [],
   "source": [
    "import pandas as pd\n",
    "from scipy import stats as st\n",
    "import numpy as np\n",
    "import matplotlib.pyplot as plt\n",
    "import random\n",
    "import math as mt"
   ]
  },
  {
   "cell_type": "code",
   "execution_count": 2,
   "metadata": {},
   "outputs": [],
   "source": [
    "import warnings\n",
    "warnings.filterwarnings('ignore')"
   ]
  },
  {
   "cell_type": "code",
   "execution_count": 3,
   "metadata": {},
   "outputs": [],
   "source": [
    "data = pd.read_csv('games.csv')"
   ]
  },
  {
   "cell_type": "code",
   "execution_count": 4,
   "metadata": {},
   "outputs": [
    {
     "data": {
      "text/html": [
       "<div>\n",
       "<style scoped>\n",
       "    .dataframe tbody tr th:only-of-type {\n",
       "        vertical-align: middle;\n",
       "    }\n",
       "\n",
       "    .dataframe tbody tr th {\n",
       "        vertical-align: top;\n",
       "    }\n",
       "\n",
       "    .dataframe thead th {\n",
       "        text-align: right;\n",
       "    }\n",
       "</style>\n",
       "<table border=\"1\" class=\"dataframe\">\n",
       "  <thead>\n",
       "    <tr style=\"text-align: right;\">\n",
       "      <th></th>\n",
       "      <th>Name</th>\n",
       "      <th>Platform</th>\n",
       "      <th>Year_of_Release</th>\n",
       "      <th>Genre</th>\n",
       "      <th>NA_sales</th>\n",
       "      <th>EU_sales</th>\n",
       "      <th>JP_sales</th>\n",
       "      <th>Other_sales</th>\n",
       "      <th>Critic_Score</th>\n",
       "      <th>User_Score</th>\n",
       "      <th>Rating</th>\n",
       "    </tr>\n",
       "  </thead>\n",
       "  <tbody>\n",
       "    <tr>\n",
       "      <th>0</th>\n",
       "      <td>Wii Sports</td>\n",
       "      <td>Wii</td>\n",
       "      <td>2006.0</td>\n",
       "      <td>Sports</td>\n",
       "      <td>41.36</td>\n",
       "      <td>28.96</td>\n",
       "      <td>3.77</td>\n",
       "      <td>8.45</td>\n",
       "      <td>76.0</td>\n",
       "      <td>8</td>\n",
       "      <td>E</td>\n",
       "    </tr>\n",
       "    <tr>\n",
       "      <th>1</th>\n",
       "      <td>Super Mario Bros.</td>\n",
       "      <td>NES</td>\n",
       "      <td>1985.0</td>\n",
       "      <td>Platform</td>\n",
       "      <td>29.08</td>\n",
       "      <td>3.58</td>\n",
       "      <td>6.81</td>\n",
       "      <td>0.77</td>\n",
       "      <td>NaN</td>\n",
       "      <td>NaN</td>\n",
       "      <td>NaN</td>\n",
       "    </tr>\n",
       "    <tr>\n",
       "      <th>2</th>\n",
       "      <td>Mario Kart Wii</td>\n",
       "      <td>Wii</td>\n",
       "      <td>2008.0</td>\n",
       "      <td>Racing</td>\n",
       "      <td>15.68</td>\n",
       "      <td>12.76</td>\n",
       "      <td>3.79</td>\n",
       "      <td>3.29</td>\n",
       "      <td>82.0</td>\n",
       "      <td>8.3</td>\n",
       "      <td>E</td>\n",
       "    </tr>\n",
       "    <tr>\n",
       "      <th>3</th>\n",
       "      <td>Wii Sports Resort</td>\n",
       "      <td>Wii</td>\n",
       "      <td>2009.0</td>\n",
       "      <td>Sports</td>\n",
       "      <td>15.61</td>\n",
       "      <td>10.93</td>\n",
       "      <td>3.28</td>\n",
       "      <td>2.95</td>\n",
       "      <td>80.0</td>\n",
       "      <td>8</td>\n",
       "      <td>E</td>\n",
       "    </tr>\n",
       "    <tr>\n",
       "      <th>4</th>\n",
       "      <td>Pokemon Red/Pokemon Blue</td>\n",
       "      <td>GB</td>\n",
       "      <td>1996.0</td>\n",
       "      <td>Role-Playing</td>\n",
       "      <td>11.27</td>\n",
       "      <td>8.89</td>\n",
       "      <td>10.22</td>\n",
       "      <td>1.00</td>\n",
       "      <td>NaN</td>\n",
       "      <td>NaN</td>\n",
       "      <td>NaN</td>\n",
       "    </tr>\n",
       "    <tr>\n",
       "      <th>5</th>\n",
       "      <td>Tetris</td>\n",
       "      <td>GB</td>\n",
       "      <td>1989.0</td>\n",
       "      <td>Puzzle</td>\n",
       "      <td>23.20</td>\n",
       "      <td>2.26</td>\n",
       "      <td>4.22</td>\n",
       "      <td>0.58</td>\n",
       "      <td>NaN</td>\n",
       "      <td>NaN</td>\n",
       "      <td>NaN</td>\n",
       "    </tr>\n",
       "    <tr>\n",
       "      <th>6</th>\n",
       "      <td>New Super Mario Bros.</td>\n",
       "      <td>DS</td>\n",
       "      <td>2006.0</td>\n",
       "      <td>Platform</td>\n",
       "      <td>11.28</td>\n",
       "      <td>9.14</td>\n",
       "      <td>6.50</td>\n",
       "      <td>2.88</td>\n",
       "      <td>89.0</td>\n",
       "      <td>8.5</td>\n",
       "      <td>E</td>\n",
       "    </tr>\n",
       "    <tr>\n",
       "      <th>7</th>\n",
       "      <td>Wii Play</td>\n",
       "      <td>Wii</td>\n",
       "      <td>2006.0</td>\n",
       "      <td>Misc</td>\n",
       "      <td>13.96</td>\n",
       "      <td>9.18</td>\n",
       "      <td>2.93</td>\n",
       "      <td>2.84</td>\n",
       "      <td>58.0</td>\n",
       "      <td>6.6</td>\n",
       "      <td>E</td>\n",
       "    </tr>\n",
       "    <tr>\n",
       "      <th>8</th>\n",
       "      <td>New Super Mario Bros. Wii</td>\n",
       "      <td>Wii</td>\n",
       "      <td>2009.0</td>\n",
       "      <td>Platform</td>\n",
       "      <td>14.44</td>\n",
       "      <td>6.94</td>\n",
       "      <td>4.70</td>\n",
       "      <td>2.24</td>\n",
       "      <td>87.0</td>\n",
       "      <td>8.4</td>\n",
       "      <td>E</td>\n",
       "    </tr>\n",
       "    <tr>\n",
       "      <th>9</th>\n",
       "      <td>Duck Hunt</td>\n",
       "      <td>NES</td>\n",
       "      <td>1984.0</td>\n",
       "      <td>Shooter</td>\n",
       "      <td>26.93</td>\n",
       "      <td>0.63</td>\n",
       "      <td>0.28</td>\n",
       "      <td>0.47</td>\n",
       "      <td>NaN</td>\n",
       "      <td>NaN</td>\n",
       "      <td>NaN</td>\n",
       "    </tr>\n",
       "    <tr>\n",
       "      <th>10</th>\n",
       "      <td>Nintendogs</td>\n",
       "      <td>DS</td>\n",
       "      <td>2005.0</td>\n",
       "      <td>Simulation</td>\n",
       "      <td>9.05</td>\n",
       "      <td>10.95</td>\n",
       "      <td>1.93</td>\n",
       "      <td>2.74</td>\n",
       "      <td>NaN</td>\n",
       "      <td>NaN</td>\n",
       "      <td>NaN</td>\n",
       "    </tr>\n",
       "    <tr>\n",
       "      <th>11</th>\n",
       "      <td>Mario Kart DS</td>\n",
       "      <td>DS</td>\n",
       "      <td>2005.0</td>\n",
       "      <td>Racing</td>\n",
       "      <td>9.71</td>\n",
       "      <td>7.47</td>\n",
       "      <td>4.13</td>\n",
       "      <td>1.90</td>\n",
       "      <td>91.0</td>\n",
       "      <td>8.6</td>\n",
       "      <td>E</td>\n",
       "    </tr>\n",
       "    <tr>\n",
       "      <th>12</th>\n",
       "      <td>Pokemon Gold/Pokemon Silver</td>\n",
       "      <td>GB</td>\n",
       "      <td>1999.0</td>\n",
       "      <td>Role-Playing</td>\n",
       "      <td>9.00</td>\n",
       "      <td>6.18</td>\n",
       "      <td>7.20</td>\n",
       "      <td>0.71</td>\n",
       "      <td>NaN</td>\n",
       "      <td>NaN</td>\n",
       "      <td>NaN</td>\n",
       "    </tr>\n",
       "    <tr>\n",
       "      <th>13</th>\n",
       "      <td>Wii Fit</td>\n",
       "      <td>Wii</td>\n",
       "      <td>2007.0</td>\n",
       "      <td>Sports</td>\n",
       "      <td>8.92</td>\n",
       "      <td>8.03</td>\n",
       "      <td>3.60</td>\n",
       "      <td>2.15</td>\n",
       "      <td>80.0</td>\n",
       "      <td>7.7</td>\n",
       "      <td>E</td>\n",
       "    </tr>\n",
       "    <tr>\n",
       "      <th>14</th>\n",
       "      <td>Kinect Adventures!</td>\n",
       "      <td>X360</td>\n",
       "      <td>2010.0</td>\n",
       "      <td>Misc</td>\n",
       "      <td>15.00</td>\n",
       "      <td>4.89</td>\n",
       "      <td>0.24</td>\n",
       "      <td>1.69</td>\n",
       "      <td>61.0</td>\n",
       "      <td>6.3</td>\n",
       "      <td>E</td>\n",
       "    </tr>\n",
       "    <tr>\n",
       "      <th>15</th>\n",
       "      <td>Wii Fit Plus</td>\n",
       "      <td>Wii</td>\n",
       "      <td>2009.0</td>\n",
       "      <td>Sports</td>\n",
       "      <td>9.01</td>\n",
       "      <td>8.49</td>\n",
       "      <td>2.53</td>\n",
       "      <td>1.77</td>\n",
       "      <td>80.0</td>\n",
       "      <td>7.4</td>\n",
       "      <td>E</td>\n",
       "    </tr>\n",
       "    <tr>\n",
       "      <th>16</th>\n",
       "      <td>Grand Theft Auto V</td>\n",
       "      <td>PS3</td>\n",
       "      <td>2013.0</td>\n",
       "      <td>Action</td>\n",
       "      <td>7.02</td>\n",
       "      <td>9.09</td>\n",
       "      <td>0.98</td>\n",
       "      <td>3.96</td>\n",
       "      <td>97.0</td>\n",
       "      <td>8.2</td>\n",
       "      <td>M</td>\n",
       "    </tr>\n",
       "    <tr>\n",
       "      <th>17</th>\n",
       "      <td>Grand Theft Auto: San Andreas</td>\n",
       "      <td>PS2</td>\n",
       "      <td>2004.0</td>\n",
       "      <td>Action</td>\n",
       "      <td>9.43</td>\n",
       "      <td>0.40</td>\n",
       "      <td>0.41</td>\n",
       "      <td>10.57</td>\n",
       "      <td>95.0</td>\n",
       "      <td>9</td>\n",
       "      <td>M</td>\n",
       "    </tr>\n",
       "    <tr>\n",
       "      <th>18</th>\n",
       "      <td>Super Mario World</td>\n",
       "      <td>SNES</td>\n",
       "      <td>1990.0</td>\n",
       "      <td>Platform</td>\n",
       "      <td>12.78</td>\n",
       "      <td>3.75</td>\n",
       "      <td>3.54</td>\n",
       "      <td>0.55</td>\n",
       "      <td>NaN</td>\n",
       "      <td>NaN</td>\n",
       "      <td>NaN</td>\n",
       "    </tr>\n",
       "    <tr>\n",
       "      <th>19</th>\n",
       "      <td>Brain Age: Train Your Brain in Minutes a Day</td>\n",
       "      <td>DS</td>\n",
       "      <td>2005.0</td>\n",
       "      <td>Misc</td>\n",
       "      <td>4.74</td>\n",
       "      <td>9.20</td>\n",
       "      <td>4.16</td>\n",
       "      <td>2.04</td>\n",
       "      <td>77.0</td>\n",
       "      <td>7.9</td>\n",
       "      <td>E</td>\n",
       "    </tr>\n",
       "    <tr>\n",
       "      <th>20</th>\n",
       "      <td>Pokemon Diamond/Pokemon Pearl</td>\n",
       "      <td>DS</td>\n",
       "      <td>2006.0</td>\n",
       "      <td>Role-Playing</td>\n",
       "      <td>6.38</td>\n",
       "      <td>4.46</td>\n",
       "      <td>6.04</td>\n",
       "      <td>1.36</td>\n",
       "      <td>NaN</td>\n",
       "      <td>NaN</td>\n",
       "      <td>NaN</td>\n",
       "    </tr>\n",
       "    <tr>\n",
       "      <th>21</th>\n",
       "      <td>Super Mario Land</td>\n",
       "      <td>GB</td>\n",
       "      <td>1989.0</td>\n",
       "      <td>Platform</td>\n",
       "      <td>10.83</td>\n",
       "      <td>2.71</td>\n",
       "      <td>4.18</td>\n",
       "      <td>0.42</td>\n",
       "      <td>NaN</td>\n",
       "      <td>NaN</td>\n",
       "      <td>NaN</td>\n",
       "    </tr>\n",
       "    <tr>\n",
       "      <th>22</th>\n",
       "      <td>Super Mario Bros. 3</td>\n",
       "      <td>NES</td>\n",
       "      <td>1988.0</td>\n",
       "      <td>Platform</td>\n",
       "      <td>9.54</td>\n",
       "      <td>3.44</td>\n",
       "      <td>3.84</td>\n",
       "      <td>0.46</td>\n",
       "      <td>NaN</td>\n",
       "      <td>NaN</td>\n",
       "      <td>NaN</td>\n",
       "    </tr>\n",
       "    <tr>\n",
       "      <th>23</th>\n",
       "      <td>Grand Theft Auto V</td>\n",
       "      <td>X360</td>\n",
       "      <td>2013.0</td>\n",
       "      <td>Action</td>\n",
       "      <td>9.66</td>\n",
       "      <td>5.14</td>\n",
       "      <td>0.06</td>\n",
       "      <td>1.41</td>\n",
       "      <td>97.0</td>\n",
       "      <td>8.1</td>\n",
       "      <td>M</td>\n",
       "    </tr>\n",
       "    <tr>\n",
       "      <th>24</th>\n",
       "      <td>Grand Theft Auto: Vice City</td>\n",
       "      <td>PS2</td>\n",
       "      <td>2002.0</td>\n",
       "      <td>Action</td>\n",
       "      <td>8.41</td>\n",
       "      <td>5.49</td>\n",
       "      <td>0.47</td>\n",
       "      <td>1.78</td>\n",
       "      <td>95.0</td>\n",
       "      <td>8.7</td>\n",
       "      <td>M</td>\n",
       "    </tr>\n",
       "    <tr>\n",
       "      <th>25</th>\n",
       "      <td>Pokemon Ruby/Pokemon Sapphire</td>\n",
       "      <td>GBA</td>\n",
       "      <td>2002.0</td>\n",
       "      <td>Role-Playing</td>\n",
       "      <td>6.06</td>\n",
       "      <td>3.90</td>\n",
       "      <td>5.38</td>\n",
       "      <td>0.50</td>\n",
       "      <td>NaN</td>\n",
       "      <td>NaN</td>\n",
       "      <td>NaN</td>\n",
       "    </tr>\n",
       "    <tr>\n",
       "      <th>26</th>\n",
       "      <td>Brain Age 2: More Training in Minutes a Day</td>\n",
       "      <td>DS</td>\n",
       "      <td>2005.0</td>\n",
       "      <td>Puzzle</td>\n",
       "      <td>3.43</td>\n",
       "      <td>5.35</td>\n",
       "      <td>5.32</td>\n",
       "      <td>1.18</td>\n",
       "      <td>77.0</td>\n",
       "      <td>7.1</td>\n",
       "      <td>E</td>\n",
       "    </tr>\n",
       "    <tr>\n",
       "      <th>27</th>\n",
       "      <td>Pokemon Black/Pokemon White</td>\n",
       "      <td>DS</td>\n",
       "      <td>2010.0</td>\n",
       "      <td>Role-Playing</td>\n",
       "      <td>5.51</td>\n",
       "      <td>3.17</td>\n",
       "      <td>5.65</td>\n",
       "      <td>0.80</td>\n",
       "      <td>NaN</td>\n",
       "      <td>NaN</td>\n",
       "      <td>NaN</td>\n",
       "    </tr>\n",
       "    <tr>\n",
       "      <th>28</th>\n",
       "      <td>Gran Turismo 3: A-Spec</td>\n",
       "      <td>PS2</td>\n",
       "      <td>2001.0</td>\n",
       "      <td>Racing</td>\n",
       "      <td>6.85</td>\n",
       "      <td>5.09</td>\n",
       "      <td>1.87</td>\n",
       "      <td>1.16</td>\n",
       "      <td>95.0</td>\n",
       "      <td>8.4</td>\n",
       "      <td>E</td>\n",
       "    </tr>\n",
       "    <tr>\n",
       "      <th>29</th>\n",
       "      <td>Call of Duty: Modern Warfare 3</td>\n",
       "      <td>X360</td>\n",
       "      <td>2011.0</td>\n",
       "      <td>Shooter</td>\n",
       "      <td>9.04</td>\n",
       "      <td>4.24</td>\n",
       "      <td>0.13</td>\n",
       "      <td>1.32</td>\n",
       "      <td>88.0</td>\n",
       "      <td>3.4</td>\n",
       "      <td>M</td>\n",
       "    </tr>\n",
       "    <tr>\n",
       "      <th>...</th>\n",
       "      <td>...</td>\n",
       "      <td>...</td>\n",
       "      <td>...</td>\n",
       "      <td>...</td>\n",
       "      <td>...</td>\n",
       "      <td>...</td>\n",
       "      <td>...</td>\n",
       "      <td>...</td>\n",
       "      <td>...</td>\n",
       "      <td>...</td>\n",
       "      <td>...</td>\n",
       "    </tr>\n",
       "    <tr>\n",
       "      <th>16685</th>\n",
       "      <td>Help Wanted: 50 Wacky Jobs (jp sales)</td>\n",
       "      <td>Wii</td>\n",
       "      <td>2008.0</td>\n",
       "      <td>Simulation</td>\n",
       "      <td>0.00</td>\n",
       "      <td>0.00</td>\n",
       "      <td>0.01</td>\n",
       "      <td>0.00</td>\n",
       "      <td>NaN</td>\n",
       "      <td>NaN</td>\n",
       "      <td>NaN</td>\n",
       "    </tr>\n",
       "    <tr>\n",
       "      <th>16686</th>\n",
       "      <td>Yattaman Wii: BikkuriDokkiri Machine de Mou Ra...</td>\n",
       "      <td>Wii</td>\n",
       "      <td>2008.0</td>\n",
       "      <td>Racing</td>\n",
       "      <td>0.00</td>\n",
       "      <td>0.00</td>\n",
       "      <td>0.01</td>\n",
       "      <td>0.00</td>\n",
       "      <td>NaN</td>\n",
       "      <td>NaN</td>\n",
       "      <td>NaN</td>\n",
       "    </tr>\n",
       "    <tr>\n",
       "      <th>16687</th>\n",
       "      <td>Neo Angelique Special</td>\n",
       "      <td>PSP</td>\n",
       "      <td>2008.0</td>\n",
       "      <td>Adventure</td>\n",
       "      <td>0.00</td>\n",
       "      <td>0.00</td>\n",
       "      <td>0.01</td>\n",
       "      <td>0.00</td>\n",
       "      <td>NaN</td>\n",
       "      <td>NaN</td>\n",
       "      <td>NaN</td>\n",
       "    </tr>\n",
       "    <tr>\n",
       "      <th>16688</th>\n",
       "      <td>Outdoors Unleashed: Africa 3D</td>\n",
       "      <td>3DS</td>\n",
       "      <td>2011.0</td>\n",
       "      <td>Sports</td>\n",
       "      <td>0.01</td>\n",
       "      <td>0.00</td>\n",
       "      <td>0.00</td>\n",
       "      <td>0.00</td>\n",
       "      <td>NaN</td>\n",
       "      <td>tbd</td>\n",
       "      <td>T</td>\n",
       "    </tr>\n",
       "    <tr>\n",
       "      <th>16689</th>\n",
       "      <td>Real Rode</td>\n",
       "      <td>PS2</td>\n",
       "      <td>2008.0</td>\n",
       "      <td>Adventure</td>\n",
       "      <td>0.00</td>\n",
       "      <td>0.00</td>\n",
       "      <td>0.01</td>\n",
       "      <td>0.00</td>\n",
       "      <td>NaN</td>\n",
       "      <td>NaN</td>\n",
       "      <td>NaN</td>\n",
       "    </tr>\n",
       "    <tr>\n",
       "      <th>16690</th>\n",
       "      <td>Pony Friends 2</td>\n",
       "      <td>PC</td>\n",
       "      <td>2009.0</td>\n",
       "      <td>Simulation</td>\n",
       "      <td>0.00</td>\n",
       "      <td>0.01</td>\n",
       "      <td>0.00</td>\n",
       "      <td>0.00</td>\n",
       "      <td>NaN</td>\n",
       "      <td>NaN</td>\n",
       "      <td>NaN</td>\n",
       "    </tr>\n",
       "    <tr>\n",
       "      <th>16691</th>\n",
       "      <td>Dynasty Warriors: Eiketsuden</td>\n",
       "      <td>PS3</td>\n",
       "      <td>2016.0</td>\n",
       "      <td>Action</td>\n",
       "      <td>0.00</td>\n",
       "      <td>0.00</td>\n",
       "      <td>0.01</td>\n",
       "      <td>0.00</td>\n",
       "      <td>NaN</td>\n",
       "      <td>NaN</td>\n",
       "      <td>NaN</td>\n",
       "    </tr>\n",
       "    <tr>\n",
       "      <th>16692</th>\n",
       "      <td>Metal Gear Solid V: Ground Zeroes</td>\n",
       "      <td>PC</td>\n",
       "      <td>2014.0</td>\n",
       "      <td>Action</td>\n",
       "      <td>0.00</td>\n",
       "      <td>0.01</td>\n",
       "      <td>0.00</td>\n",
       "      <td>0.00</td>\n",
       "      <td>80.0</td>\n",
       "      <td>7.6</td>\n",
       "      <td>M</td>\n",
       "    </tr>\n",
       "    <tr>\n",
       "      <th>16693</th>\n",
       "      <td>PGA European Tour</td>\n",
       "      <td>N64</td>\n",
       "      <td>2000.0</td>\n",
       "      <td>Sports</td>\n",
       "      <td>0.01</td>\n",
       "      <td>0.00</td>\n",
       "      <td>0.00</td>\n",
       "      <td>0.00</td>\n",
       "      <td>NaN</td>\n",
       "      <td>NaN</td>\n",
       "      <td>NaN</td>\n",
       "    </tr>\n",
       "    <tr>\n",
       "      <th>16694</th>\n",
       "      <td>Carmageddon 64</td>\n",
       "      <td>N64</td>\n",
       "      <td>1999.0</td>\n",
       "      <td>Action</td>\n",
       "      <td>0.01</td>\n",
       "      <td>0.00</td>\n",
       "      <td>0.00</td>\n",
       "      <td>0.00</td>\n",
       "      <td>NaN</td>\n",
       "      <td>NaN</td>\n",
       "      <td>NaN</td>\n",
       "    </tr>\n",
       "    <tr>\n",
       "      <th>16695</th>\n",
       "      <td>Planet Monsters</td>\n",
       "      <td>GBA</td>\n",
       "      <td>2001.0</td>\n",
       "      <td>Action</td>\n",
       "      <td>0.01</td>\n",
       "      <td>0.00</td>\n",
       "      <td>0.00</td>\n",
       "      <td>0.00</td>\n",
       "      <td>67.0</td>\n",
       "      <td>tbd</td>\n",
       "      <td>E</td>\n",
       "    </tr>\n",
       "    <tr>\n",
       "      <th>16696</th>\n",
       "      <td>Breach</td>\n",
       "      <td>PC</td>\n",
       "      <td>2011.0</td>\n",
       "      <td>Shooter</td>\n",
       "      <td>0.01</td>\n",
       "      <td>0.00</td>\n",
       "      <td>0.00</td>\n",
       "      <td>0.00</td>\n",
       "      <td>61.0</td>\n",
       "      <td>5.8</td>\n",
       "      <td>T</td>\n",
       "    </tr>\n",
       "    <tr>\n",
       "      <th>16697</th>\n",
       "      <td>Bust-A-Move 3000</td>\n",
       "      <td>GC</td>\n",
       "      <td>2003.0</td>\n",
       "      <td>Puzzle</td>\n",
       "      <td>0.01</td>\n",
       "      <td>0.00</td>\n",
       "      <td>0.00</td>\n",
       "      <td>0.00</td>\n",
       "      <td>53.0</td>\n",
       "      <td>tbd</td>\n",
       "      <td>E</td>\n",
       "    </tr>\n",
       "    <tr>\n",
       "      <th>16698</th>\n",
       "      <td>Mega Brain Boost</td>\n",
       "      <td>DS</td>\n",
       "      <td>2008.0</td>\n",
       "      <td>Puzzle</td>\n",
       "      <td>0.01</td>\n",
       "      <td>0.00</td>\n",
       "      <td>0.00</td>\n",
       "      <td>0.00</td>\n",
       "      <td>48.0</td>\n",
       "      <td>tbd</td>\n",
       "      <td>E</td>\n",
       "    </tr>\n",
       "    <tr>\n",
       "      <th>16699</th>\n",
       "      <td>The Longest 5 Minutes</td>\n",
       "      <td>PSV</td>\n",
       "      <td>2016.0</td>\n",
       "      <td>Action</td>\n",
       "      <td>0.00</td>\n",
       "      <td>0.00</td>\n",
       "      <td>0.01</td>\n",
       "      <td>0.00</td>\n",
       "      <td>NaN</td>\n",
       "      <td>NaN</td>\n",
       "      <td>NaN</td>\n",
       "    </tr>\n",
       "    <tr>\n",
       "      <th>16700</th>\n",
       "      <td>Mezase!! Tsuri Master DS</td>\n",
       "      <td>DS</td>\n",
       "      <td>2009.0</td>\n",
       "      <td>Sports</td>\n",
       "      <td>0.00</td>\n",
       "      <td>0.00</td>\n",
       "      <td>0.01</td>\n",
       "      <td>0.00</td>\n",
       "      <td>NaN</td>\n",
       "      <td>NaN</td>\n",
       "      <td>NaN</td>\n",
       "    </tr>\n",
       "    <tr>\n",
       "      <th>16701</th>\n",
       "      <td>Eiyuu Densetsu: Sora no Kiseki Material Collec...</td>\n",
       "      <td>PSP</td>\n",
       "      <td>2007.0</td>\n",
       "      <td>Role-Playing</td>\n",
       "      <td>0.00</td>\n",
       "      <td>0.00</td>\n",
       "      <td>0.01</td>\n",
       "      <td>0.00</td>\n",
       "      <td>NaN</td>\n",
       "      <td>NaN</td>\n",
       "      <td>NaN</td>\n",
       "    </tr>\n",
       "    <tr>\n",
       "      <th>16702</th>\n",
       "      <td>STORM: Frontline Nation</td>\n",
       "      <td>PC</td>\n",
       "      <td>2011.0</td>\n",
       "      <td>Strategy</td>\n",
       "      <td>0.00</td>\n",
       "      <td>0.01</td>\n",
       "      <td>0.00</td>\n",
       "      <td>0.00</td>\n",
       "      <td>60.0</td>\n",
       "      <td>7.2</td>\n",
       "      <td>E10+</td>\n",
       "    </tr>\n",
       "    <tr>\n",
       "      <th>16703</th>\n",
       "      <td>Strawberry Nauts</td>\n",
       "      <td>PSV</td>\n",
       "      <td>2016.0</td>\n",
       "      <td>Adventure</td>\n",
       "      <td>0.00</td>\n",
       "      <td>0.00</td>\n",
       "      <td>0.01</td>\n",
       "      <td>0.00</td>\n",
       "      <td>NaN</td>\n",
       "      <td>NaN</td>\n",
       "      <td>NaN</td>\n",
       "    </tr>\n",
       "    <tr>\n",
       "      <th>16704</th>\n",
       "      <td>Plushees</td>\n",
       "      <td>DS</td>\n",
       "      <td>2008.0</td>\n",
       "      <td>Simulation</td>\n",
       "      <td>0.01</td>\n",
       "      <td>0.00</td>\n",
       "      <td>0.00</td>\n",
       "      <td>0.00</td>\n",
       "      <td>NaN</td>\n",
       "      <td>tbd</td>\n",
       "      <td>E</td>\n",
       "    </tr>\n",
       "    <tr>\n",
       "      <th>16705</th>\n",
       "      <td>15 Days</td>\n",
       "      <td>PC</td>\n",
       "      <td>2009.0</td>\n",
       "      <td>Adventure</td>\n",
       "      <td>0.00</td>\n",
       "      <td>0.01</td>\n",
       "      <td>0.00</td>\n",
       "      <td>0.00</td>\n",
       "      <td>63.0</td>\n",
       "      <td>5.8</td>\n",
       "      <td>NaN</td>\n",
       "    </tr>\n",
       "    <tr>\n",
       "      <th>16706</th>\n",
       "      <td>Men in Black II: Alien Escape</td>\n",
       "      <td>GC</td>\n",
       "      <td>2003.0</td>\n",
       "      <td>Shooter</td>\n",
       "      <td>0.01</td>\n",
       "      <td>0.00</td>\n",
       "      <td>0.00</td>\n",
       "      <td>0.00</td>\n",
       "      <td>NaN</td>\n",
       "      <td>tbd</td>\n",
       "      <td>T</td>\n",
       "    </tr>\n",
       "    <tr>\n",
       "      <th>16707</th>\n",
       "      <td>Aiyoku no Eustia</td>\n",
       "      <td>PSV</td>\n",
       "      <td>2014.0</td>\n",
       "      <td>Misc</td>\n",
       "      <td>0.00</td>\n",
       "      <td>0.00</td>\n",
       "      <td>0.01</td>\n",
       "      <td>0.00</td>\n",
       "      <td>NaN</td>\n",
       "      <td>NaN</td>\n",
       "      <td>NaN</td>\n",
       "    </tr>\n",
       "    <tr>\n",
       "      <th>16708</th>\n",
       "      <td>Woody Woodpecker in Crazy Castle 5</td>\n",
       "      <td>GBA</td>\n",
       "      <td>2002.0</td>\n",
       "      <td>Platform</td>\n",
       "      <td>0.01</td>\n",
       "      <td>0.00</td>\n",
       "      <td>0.00</td>\n",
       "      <td>0.00</td>\n",
       "      <td>NaN</td>\n",
       "      <td>NaN</td>\n",
       "      <td>NaN</td>\n",
       "    </tr>\n",
       "    <tr>\n",
       "      <th>16709</th>\n",
       "      <td>SCORE International Baja 1000: The Official Game</td>\n",
       "      <td>PS2</td>\n",
       "      <td>2008.0</td>\n",
       "      <td>Racing</td>\n",
       "      <td>0.00</td>\n",
       "      <td>0.00</td>\n",
       "      <td>0.00</td>\n",
       "      <td>0.00</td>\n",
       "      <td>NaN</td>\n",
       "      <td>NaN</td>\n",
       "      <td>NaN</td>\n",
       "    </tr>\n",
       "    <tr>\n",
       "      <th>16710</th>\n",
       "      <td>Samurai Warriors: Sanada Maru</td>\n",
       "      <td>PS3</td>\n",
       "      <td>2016.0</td>\n",
       "      <td>Action</td>\n",
       "      <td>0.00</td>\n",
       "      <td>0.00</td>\n",
       "      <td>0.01</td>\n",
       "      <td>0.00</td>\n",
       "      <td>NaN</td>\n",
       "      <td>NaN</td>\n",
       "      <td>NaN</td>\n",
       "    </tr>\n",
       "    <tr>\n",
       "      <th>16711</th>\n",
       "      <td>LMA Manager 2007</td>\n",
       "      <td>X360</td>\n",
       "      <td>2006.0</td>\n",
       "      <td>Sports</td>\n",
       "      <td>0.00</td>\n",
       "      <td>0.01</td>\n",
       "      <td>0.00</td>\n",
       "      <td>0.00</td>\n",
       "      <td>NaN</td>\n",
       "      <td>NaN</td>\n",
       "      <td>NaN</td>\n",
       "    </tr>\n",
       "    <tr>\n",
       "      <th>16712</th>\n",
       "      <td>Haitaka no Psychedelica</td>\n",
       "      <td>PSV</td>\n",
       "      <td>2016.0</td>\n",
       "      <td>Adventure</td>\n",
       "      <td>0.00</td>\n",
       "      <td>0.00</td>\n",
       "      <td>0.01</td>\n",
       "      <td>0.00</td>\n",
       "      <td>NaN</td>\n",
       "      <td>NaN</td>\n",
       "      <td>NaN</td>\n",
       "    </tr>\n",
       "    <tr>\n",
       "      <th>16713</th>\n",
       "      <td>Spirits &amp; Spells</td>\n",
       "      <td>GBA</td>\n",
       "      <td>2003.0</td>\n",
       "      <td>Platform</td>\n",
       "      <td>0.01</td>\n",
       "      <td>0.00</td>\n",
       "      <td>0.00</td>\n",
       "      <td>0.00</td>\n",
       "      <td>NaN</td>\n",
       "      <td>NaN</td>\n",
       "      <td>NaN</td>\n",
       "    </tr>\n",
       "    <tr>\n",
       "      <th>16714</th>\n",
       "      <td>Winning Post 8 2016</td>\n",
       "      <td>PSV</td>\n",
       "      <td>2016.0</td>\n",
       "      <td>Simulation</td>\n",
       "      <td>0.00</td>\n",
       "      <td>0.00</td>\n",
       "      <td>0.01</td>\n",
       "      <td>0.00</td>\n",
       "      <td>NaN</td>\n",
       "      <td>NaN</td>\n",
       "      <td>NaN</td>\n",
       "    </tr>\n",
       "  </tbody>\n",
       "</table>\n",
       "<p>16715 rows × 11 columns</p>\n",
       "</div>"
      ],
      "text/plain": [
       "                                                    Name Platform  \\\n",
       "0                                             Wii Sports      Wii   \n",
       "1                                      Super Mario Bros.      NES   \n",
       "2                                         Mario Kart Wii      Wii   \n",
       "3                                      Wii Sports Resort      Wii   \n",
       "4                               Pokemon Red/Pokemon Blue       GB   \n",
       "5                                                 Tetris       GB   \n",
       "6                                  New Super Mario Bros.       DS   \n",
       "7                                               Wii Play      Wii   \n",
       "8                              New Super Mario Bros. Wii      Wii   \n",
       "9                                              Duck Hunt      NES   \n",
       "10                                            Nintendogs       DS   \n",
       "11                                         Mario Kart DS       DS   \n",
       "12                           Pokemon Gold/Pokemon Silver       GB   \n",
       "13                                               Wii Fit      Wii   \n",
       "14                                    Kinect Adventures!     X360   \n",
       "15                                          Wii Fit Plus      Wii   \n",
       "16                                    Grand Theft Auto V      PS3   \n",
       "17                         Grand Theft Auto: San Andreas      PS2   \n",
       "18                                     Super Mario World     SNES   \n",
       "19          Brain Age: Train Your Brain in Minutes a Day       DS   \n",
       "20                         Pokemon Diamond/Pokemon Pearl       DS   \n",
       "21                                      Super Mario Land       GB   \n",
       "22                                   Super Mario Bros. 3      NES   \n",
       "23                                    Grand Theft Auto V     X360   \n",
       "24                           Grand Theft Auto: Vice City      PS2   \n",
       "25                         Pokemon Ruby/Pokemon Sapphire      GBA   \n",
       "26           Brain Age 2: More Training in Minutes a Day       DS   \n",
       "27                           Pokemon Black/Pokemon White       DS   \n",
       "28                                Gran Turismo 3: A-Spec      PS2   \n",
       "29                        Call of Duty: Modern Warfare 3     X360   \n",
       "...                                                  ...      ...   \n",
       "16685              Help Wanted: 50 Wacky Jobs (jp sales)      Wii   \n",
       "16686  Yattaman Wii: BikkuriDokkiri Machine de Mou Ra...      Wii   \n",
       "16687                              Neo Angelique Special      PSP   \n",
       "16688                      Outdoors Unleashed: Africa 3D      3DS   \n",
       "16689                                          Real Rode      PS2   \n",
       "16690                                     Pony Friends 2       PC   \n",
       "16691                       Dynasty Warriors: Eiketsuden      PS3   \n",
       "16692                  Metal Gear Solid V: Ground Zeroes       PC   \n",
       "16693                                  PGA European Tour      N64   \n",
       "16694                                     Carmageddon 64      N64   \n",
       "16695                                    Planet Monsters      GBA   \n",
       "16696                                             Breach       PC   \n",
       "16697                                   Bust-A-Move 3000       GC   \n",
       "16698                                   Mega Brain Boost       DS   \n",
       "16699                              The Longest 5 Minutes      PSV   \n",
       "16700                           Mezase!! Tsuri Master DS       DS   \n",
       "16701  Eiyuu Densetsu: Sora no Kiseki Material Collec...      PSP   \n",
       "16702                            STORM: Frontline Nation       PC   \n",
       "16703                                   Strawberry Nauts      PSV   \n",
       "16704                                           Plushees       DS   \n",
       "16705                                            15 Days       PC   \n",
       "16706                      Men in Black II: Alien Escape       GC   \n",
       "16707                                   Aiyoku no Eustia      PSV   \n",
       "16708                 Woody Woodpecker in Crazy Castle 5      GBA   \n",
       "16709   SCORE International Baja 1000: The Official Game      PS2   \n",
       "16710                      Samurai Warriors: Sanada Maru      PS3   \n",
       "16711                                   LMA Manager 2007     X360   \n",
       "16712                            Haitaka no Psychedelica      PSV   \n",
       "16713                                   Spirits & Spells      GBA   \n",
       "16714                                Winning Post 8 2016      PSV   \n",
       "\n",
       "       Year_of_Release         Genre  NA_sales  EU_sales  JP_sales  \\\n",
       "0               2006.0        Sports     41.36     28.96      3.77   \n",
       "1               1985.0      Platform     29.08      3.58      6.81   \n",
       "2               2008.0        Racing     15.68     12.76      3.79   \n",
       "3               2009.0        Sports     15.61     10.93      3.28   \n",
       "4               1996.0  Role-Playing     11.27      8.89     10.22   \n",
       "5               1989.0        Puzzle     23.20      2.26      4.22   \n",
       "6               2006.0      Platform     11.28      9.14      6.50   \n",
       "7               2006.0          Misc     13.96      9.18      2.93   \n",
       "8               2009.0      Platform     14.44      6.94      4.70   \n",
       "9               1984.0       Shooter     26.93      0.63      0.28   \n",
       "10              2005.0    Simulation      9.05     10.95      1.93   \n",
       "11              2005.0        Racing      9.71      7.47      4.13   \n",
       "12              1999.0  Role-Playing      9.00      6.18      7.20   \n",
       "13              2007.0        Sports      8.92      8.03      3.60   \n",
       "14              2010.0          Misc     15.00      4.89      0.24   \n",
       "15              2009.0        Sports      9.01      8.49      2.53   \n",
       "16              2013.0        Action      7.02      9.09      0.98   \n",
       "17              2004.0        Action      9.43      0.40      0.41   \n",
       "18              1990.0      Platform     12.78      3.75      3.54   \n",
       "19              2005.0          Misc      4.74      9.20      4.16   \n",
       "20              2006.0  Role-Playing      6.38      4.46      6.04   \n",
       "21              1989.0      Platform     10.83      2.71      4.18   \n",
       "22              1988.0      Platform      9.54      3.44      3.84   \n",
       "23              2013.0        Action      9.66      5.14      0.06   \n",
       "24              2002.0        Action      8.41      5.49      0.47   \n",
       "25              2002.0  Role-Playing      6.06      3.90      5.38   \n",
       "26              2005.0        Puzzle      3.43      5.35      5.32   \n",
       "27              2010.0  Role-Playing      5.51      3.17      5.65   \n",
       "28              2001.0        Racing      6.85      5.09      1.87   \n",
       "29              2011.0       Shooter      9.04      4.24      0.13   \n",
       "...                ...           ...       ...       ...       ...   \n",
       "16685           2008.0    Simulation      0.00      0.00      0.01   \n",
       "16686           2008.0        Racing      0.00      0.00      0.01   \n",
       "16687           2008.0     Adventure      0.00      0.00      0.01   \n",
       "16688           2011.0        Sports      0.01      0.00      0.00   \n",
       "16689           2008.0     Adventure      0.00      0.00      0.01   \n",
       "16690           2009.0    Simulation      0.00      0.01      0.00   \n",
       "16691           2016.0        Action      0.00      0.00      0.01   \n",
       "16692           2014.0        Action      0.00      0.01      0.00   \n",
       "16693           2000.0        Sports      0.01      0.00      0.00   \n",
       "16694           1999.0        Action      0.01      0.00      0.00   \n",
       "16695           2001.0        Action      0.01      0.00      0.00   \n",
       "16696           2011.0       Shooter      0.01      0.00      0.00   \n",
       "16697           2003.0        Puzzle      0.01      0.00      0.00   \n",
       "16698           2008.0        Puzzle      0.01      0.00      0.00   \n",
       "16699           2016.0        Action      0.00      0.00      0.01   \n",
       "16700           2009.0        Sports      0.00      0.00      0.01   \n",
       "16701           2007.0  Role-Playing      0.00      0.00      0.01   \n",
       "16702           2011.0      Strategy      0.00      0.01      0.00   \n",
       "16703           2016.0     Adventure      0.00      0.00      0.01   \n",
       "16704           2008.0    Simulation      0.01      0.00      0.00   \n",
       "16705           2009.0     Adventure      0.00      0.01      0.00   \n",
       "16706           2003.0       Shooter      0.01      0.00      0.00   \n",
       "16707           2014.0          Misc      0.00      0.00      0.01   \n",
       "16708           2002.0      Platform      0.01      0.00      0.00   \n",
       "16709           2008.0        Racing      0.00      0.00      0.00   \n",
       "16710           2016.0        Action      0.00      0.00      0.01   \n",
       "16711           2006.0        Sports      0.00      0.01      0.00   \n",
       "16712           2016.0     Adventure      0.00      0.00      0.01   \n",
       "16713           2003.0      Platform      0.01      0.00      0.00   \n",
       "16714           2016.0    Simulation      0.00      0.00      0.01   \n",
       "\n",
       "       Other_sales  Critic_Score User_Score Rating  \n",
       "0             8.45          76.0          8      E  \n",
       "1             0.77           NaN        NaN    NaN  \n",
       "2             3.29          82.0        8.3      E  \n",
       "3             2.95          80.0          8      E  \n",
       "4             1.00           NaN        NaN    NaN  \n",
       "5             0.58           NaN        NaN    NaN  \n",
       "6             2.88          89.0        8.5      E  \n",
       "7             2.84          58.0        6.6      E  \n",
       "8             2.24          87.0        8.4      E  \n",
       "9             0.47           NaN        NaN    NaN  \n",
       "10            2.74           NaN        NaN    NaN  \n",
       "11            1.90          91.0        8.6      E  \n",
       "12            0.71           NaN        NaN    NaN  \n",
       "13            2.15          80.0        7.7      E  \n",
       "14            1.69          61.0        6.3      E  \n",
       "15            1.77          80.0        7.4      E  \n",
       "16            3.96          97.0        8.2      M  \n",
       "17           10.57          95.0          9      M  \n",
       "18            0.55           NaN        NaN    NaN  \n",
       "19            2.04          77.0        7.9      E  \n",
       "20            1.36           NaN        NaN    NaN  \n",
       "21            0.42           NaN        NaN    NaN  \n",
       "22            0.46           NaN        NaN    NaN  \n",
       "23            1.41          97.0        8.1      M  \n",
       "24            1.78          95.0        8.7      M  \n",
       "25            0.50           NaN        NaN    NaN  \n",
       "26            1.18          77.0        7.1      E  \n",
       "27            0.80           NaN        NaN    NaN  \n",
       "28            1.16          95.0        8.4      E  \n",
       "29            1.32          88.0        3.4      M  \n",
       "...            ...           ...        ...    ...  \n",
       "16685         0.00           NaN        NaN    NaN  \n",
       "16686         0.00           NaN        NaN    NaN  \n",
       "16687         0.00           NaN        NaN    NaN  \n",
       "16688         0.00           NaN        tbd      T  \n",
       "16689         0.00           NaN        NaN    NaN  \n",
       "16690         0.00           NaN        NaN    NaN  \n",
       "16691         0.00           NaN        NaN    NaN  \n",
       "16692         0.00          80.0        7.6      M  \n",
       "16693         0.00           NaN        NaN    NaN  \n",
       "16694         0.00           NaN        NaN    NaN  \n",
       "16695         0.00          67.0        tbd      E  \n",
       "16696         0.00          61.0        5.8      T  \n",
       "16697         0.00          53.0        tbd      E  \n",
       "16698         0.00          48.0        tbd      E  \n",
       "16699         0.00           NaN        NaN    NaN  \n",
       "16700         0.00           NaN        NaN    NaN  \n",
       "16701         0.00           NaN        NaN    NaN  \n",
       "16702         0.00          60.0        7.2   E10+  \n",
       "16703         0.00           NaN        NaN    NaN  \n",
       "16704         0.00           NaN        tbd      E  \n",
       "16705         0.00          63.0        5.8    NaN  \n",
       "16706         0.00           NaN        tbd      T  \n",
       "16707         0.00           NaN        NaN    NaN  \n",
       "16708         0.00           NaN        NaN    NaN  \n",
       "16709         0.00           NaN        NaN    NaN  \n",
       "16710         0.00           NaN        NaN    NaN  \n",
       "16711         0.00           NaN        NaN    NaN  \n",
       "16712         0.00           NaN        NaN    NaN  \n",
       "16713         0.00           NaN        NaN    NaN  \n",
       "16714         0.00           NaN        NaN    NaN  \n",
       "\n",
       "[16715 rows x 11 columns]"
      ]
     },
     "execution_count": 4,
     "metadata": {},
     "output_type": "execute_result"
    }
   ],
   "source": [
    "data"
   ]
  },
  {
   "cell_type": "code",
   "execution_count": 5,
   "metadata": {},
   "outputs": [
    {
     "name": "stdout",
     "output_type": "stream",
     "text": [
      "<class 'pandas.core.frame.DataFrame'>\n",
      "RangeIndex: 16715 entries, 0 to 16714\n",
      "Data columns (total 11 columns):\n",
      "Name               16713 non-null object\n",
      "Platform           16715 non-null object\n",
      "Year_of_Release    16446 non-null float64\n",
      "Genre              16713 non-null object\n",
      "NA_sales           16715 non-null float64\n",
      "EU_sales           16715 non-null float64\n",
      "JP_sales           16715 non-null float64\n",
      "Other_sales        16715 non-null float64\n",
      "Critic_Score       8137 non-null float64\n",
      "User_Score         10014 non-null object\n",
      "Rating             9949 non-null object\n",
      "dtypes: float64(6), object(5)\n",
      "memory usage: 1.4+ MB\n"
     ]
    }
   ],
   "source": [
    "data.info()"
   ]
  },
  {
   "cell_type": "code",
   "execution_count": 6,
   "metadata": {},
   "outputs": [
    {
     "data": {
      "text/plain": [
       "array([1980., 1981., 1982., 1983., 1984., 1985., 1986., 1987., 1988.,\n",
       "       1989., 1990., 1991., 1992., 1993., 1994., 1995., 1996., 1997.,\n",
       "       1998., 1999., 2000., 2001., 2002., 2003., 2004., 2005., 2006.,\n",
       "       2007., 2008., 2009., 2010., 2011., 2012., 2013., 2014., 2015.,\n",
       "       2016.,   nan])"
      ]
     },
     "execution_count": 6,
     "metadata": {},
     "output_type": "execute_result"
    }
   ],
   "source": [
    "np.sort(data['Year_of_Release'].unique())"
   ]
  },
  {
   "cell_type": "code",
   "execution_count": 7,
   "metadata": {},
   "outputs": [
    {
     "data": {
      "text/plain": [
       "2008.0    1427\n",
       "2009.0    1426\n",
       "2010.0    1255\n",
       "2007.0    1197\n",
       "2011.0    1136\n",
       "2006.0    1006\n",
       "2005.0     939\n",
       "2002.0     829\n",
       "2003.0     775\n",
       "2004.0     762\n",
       "2012.0     653\n",
       "2015.0     606\n",
       "2014.0     581\n",
       "2013.0     544\n",
       "2016.0     502\n",
       "2001.0     482\n",
       "1998.0     379\n",
       "2000.0     350\n",
       "1999.0     338\n",
       "1997.0     289\n",
       "1996.0     263\n",
       "1995.0     219\n",
       "1994.0     121\n",
       "1993.0      62\n",
       "1981.0      46\n",
       "1992.0      43\n",
       "1991.0      41\n",
       "1982.0      36\n",
       "1986.0      21\n",
       "1989.0      17\n",
       "1983.0      17\n",
       "1990.0      16\n",
       "1987.0      16\n",
       "1988.0      15\n",
       "1985.0      14\n",
       "1984.0      14\n",
       "1980.0       9\n",
       "Name: Year_of_Release, dtype: int64"
      ]
     },
     "execution_count": 7,
     "metadata": {},
     "output_type": "execute_result"
    }
   ],
   "source": [
    "data['Year_of_Release'].value_counts()"
   ]
  },
  {
   "cell_type": "markdown",
   "metadata": {},
   "source": [
    "- В датасете более 16 тысяч строк, временной охват – с 1980 по 2016 гг. Для половины игр не проставлена оценка критиков, для 60% не указаны оценка пользователя и рейтинг. Для нескольких сотен игр не указан год релиза, для двух игр не указаны жанр и имя.\n",
    "\n",
    "- Необходимо перевести колонки User_score и Year_of_release к формату int"
   ]
  },
  {
   "cell_type": "code",
   "execution_count": 8,
   "metadata": {},
   "outputs": [
    {
     "data": {
      "text/plain": [
       "0"
      ]
     },
     "execution_count": 8,
     "metadata": {},
     "output_type": "execute_result"
    }
   ],
   "source": [
    "data.duplicated().sum()"
   ]
  },
  {
   "cell_type": "code",
   "execution_count": 9,
   "metadata": {},
   "outputs": [
    {
     "data": {
      "text/plain": [
       "array(['8', nan, '8.3', '8.5', '6.6', '8.4', '8.6', '7.7', '6.3', '7.4',\n",
       "       '8.2', '9', '7.9', '8.1', '8.7', '7.1', '3.4', '5.3', '4.8', '3.2',\n",
       "       '8.9', '6.4', '7.8', '7.5', '2.6', '7.2', '9.2', '7', '7.3', '4.3',\n",
       "       '7.6', '5.7', '5', '9.1', '6.5', 'tbd', '8.8', '6.9', '9.4', '6.8',\n",
       "       '6.1', '6.7', '5.4', '4', '4.9', '4.5', '9.3', '6.2', '4.2', '6',\n",
       "       '3.7', '4.1', '5.8', '5.6', '5.5', '4.4', '4.6', '5.9', '3.9',\n",
       "       '3.1', '2.9', '5.2', '3.3', '4.7', '5.1', '3.5', '2.5', '1.9', '3',\n",
       "       '2.7', '2.2', '2', '9.5', '2.1', '3.6', '2.8', '1.8', '3.8', '0',\n",
       "       '1.6', '9.6', '2.4', '1.7', '1.1', '0.3', '1.5', '0.7', '1.2',\n",
       "       '2.3', '0.5', '1.3', '0.2', '0.6', '1.4', '0.9', '1', '9.7'],\n",
       "      dtype=object)"
      ]
     },
     "execution_count": 9,
     "metadata": {},
     "output_type": "execute_result"
    }
   ],
   "source": [
    "data['User_Score'].unique()"
   ]
  },
  {
   "cell_type": "code",
   "execution_count": 10,
   "metadata": {},
   "outputs": [
    {
     "data": {
      "text/plain": [
       "5155"
      ]
     },
     "execution_count": 10,
     "metadata": {},
     "output_type": "execute_result"
    }
   ],
   "source": [
    "data['Name'].duplicated().sum()"
   ]
  },
  {
   "cell_type": "markdown",
   "metadata": {},
   "source": [
    "Несмотря на то, что в датасете нет дублированных строк, чуть меньше трети значений в колонке Name - дубликаты."
   ]
  },
  {
   "cell_type": "code",
   "execution_count": 11,
   "metadata": {},
   "outputs": [
    {
     "data": {
      "text/html": [
       "<div>\n",
       "<style scoped>\n",
       "    .dataframe tbody tr th:only-of-type {\n",
       "        vertical-align: middle;\n",
       "    }\n",
       "\n",
       "    .dataframe tbody tr th {\n",
       "        vertical-align: top;\n",
       "    }\n",
       "\n",
       "    .dataframe thead th {\n",
       "        text-align: right;\n",
       "    }\n",
       "</style>\n",
       "<table border=\"1\" class=\"dataframe\">\n",
       "  <thead>\n",
       "    <tr style=\"text-align: right;\">\n",
       "      <th></th>\n",
       "      <th>Name</th>\n",
       "      <th>Platform</th>\n",
       "      <th>Year_of_Release</th>\n",
       "      <th>Genre</th>\n",
       "      <th>NA_sales</th>\n",
       "      <th>EU_sales</th>\n",
       "      <th>JP_sales</th>\n",
       "      <th>Other_sales</th>\n",
       "      <th>Critic_Score</th>\n",
       "      <th>User_Score</th>\n",
       "      <th>Rating</th>\n",
       "    </tr>\n",
       "  </thead>\n",
       "  <tbody>\n",
       "    <tr>\n",
       "      <th>23</th>\n",
       "      <td>Grand Theft Auto V</td>\n",
       "      <td>X360</td>\n",
       "      <td>2013.0</td>\n",
       "      <td>Action</td>\n",
       "      <td>9.66</td>\n",
       "      <td>5.14</td>\n",
       "      <td>0.06</td>\n",
       "      <td>1.41</td>\n",
       "      <td>97.0</td>\n",
       "      <td>8.1</td>\n",
       "      <td>M</td>\n",
       "    </tr>\n",
       "    <tr>\n",
       "      <th>35</th>\n",
       "      <td>Call of Duty: Black Ops II</td>\n",
       "      <td>X360</td>\n",
       "      <td>2012.0</td>\n",
       "      <td>Shooter</td>\n",
       "      <td>8.25</td>\n",
       "      <td>4.24</td>\n",
       "      <td>0.07</td>\n",
       "      <td>1.12</td>\n",
       "      <td>83.0</td>\n",
       "      <td>4.8</td>\n",
       "      <td>M</td>\n",
       "    </tr>\n",
       "    <tr>\n",
       "      <th>37</th>\n",
       "      <td>Call of Duty: Modern Warfare 3</td>\n",
       "      <td>PS3</td>\n",
       "      <td>2011.0</td>\n",
       "      <td>Shooter</td>\n",
       "      <td>5.54</td>\n",
       "      <td>5.73</td>\n",
       "      <td>0.49</td>\n",
       "      <td>1.57</td>\n",
       "      <td>88.0</td>\n",
       "      <td>3.2</td>\n",
       "      <td>M</td>\n",
       "    </tr>\n",
       "    <tr>\n",
       "      <th>41</th>\n",
       "      <td>Call of Duty: Black Ops</td>\n",
       "      <td>PS3</td>\n",
       "      <td>2010.0</td>\n",
       "      <td>Shooter</td>\n",
       "      <td>5.99</td>\n",
       "      <td>4.37</td>\n",
       "      <td>0.48</td>\n",
       "      <td>1.79</td>\n",
       "      <td>88.0</td>\n",
       "      <td>6.4</td>\n",
       "      <td>M</td>\n",
       "    </tr>\n",
       "    <tr>\n",
       "      <th>42</th>\n",
       "      <td>Grand Theft Auto V</td>\n",
       "      <td>PS4</td>\n",
       "      <td>2014.0</td>\n",
       "      <td>Action</td>\n",
       "      <td>3.96</td>\n",
       "      <td>6.31</td>\n",
       "      <td>0.38</td>\n",
       "      <td>1.97</td>\n",
       "      <td>97.0</td>\n",
       "      <td>8.3</td>\n",
       "      <td>M</td>\n",
       "    </tr>\n",
       "    <tr>\n",
       "      <th>55</th>\n",
       "      <td>Call of Duty: Modern Warfare 2</td>\n",
       "      <td>PS3</td>\n",
       "      <td>2009.0</td>\n",
       "      <td>Shooter</td>\n",
       "      <td>4.99</td>\n",
       "      <td>3.64</td>\n",
       "      <td>0.38</td>\n",
       "      <td>1.60</td>\n",
       "      <td>94.0</td>\n",
       "      <td>6.3</td>\n",
       "      <td>M</td>\n",
       "    </tr>\n",
       "    <tr>\n",
       "      <th>57</th>\n",
       "      <td>Grand Theft Auto IV</td>\n",
       "      <td>PS3</td>\n",
       "      <td>2008.0</td>\n",
       "      <td>Action</td>\n",
       "      <td>4.76</td>\n",
       "      <td>3.69</td>\n",
       "      <td>0.44</td>\n",
       "      <td>1.61</td>\n",
       "      <td>98.0</td>\n",
       "      <td>7.5</td>\n",
       "      <td>M</td>\n",
       "    </tr>\n",
       "    <tr>\n",
       "      <th>59</th>\n",
       "      <td>Super Mario 64</td>\n",
       "      <td>DS</td>\n",
       "      <td>2004.0</td>\n",
       "      <td>Platform</td>\n",
       "      <td>5.01</td>\n",
       "      <td>3.07</td>\n",
       "      <td>1.25</td>\n",
       "      <td>0.97</td>\n",
       "      <td>NaN</td>\n",
       "      <td>NaN</td>\n",
       "      <td>NaN</td>\n",
       "    </tr>\n",
       "    <tr>\n",
       "      <th>69</th>\n",
       "      <td>Call of Duty: Ghosts</td>\n",
       "      <td>PS3</td>\n",
       "      <td>2013.0</td>\n",
       "      <td>Shooter</td>\n",
       "      <td>4.10</td>\n",
       "      <td>3.63</td>\n",
       "      <td>0.38</td>\n",
       "      <td>1.25</td>\n",
       "      <td>71.0</td>\n",
       "      <td>2.6</td>\n",
       "      <td>M</td>\n",
       "    </tr>\n",
       "    <tr>\n",
       "      <th>99</th>\n",
       "      <td>Call of Duty: Black Ops 3</td>\n",
       "      <td>XOne</td>\n",
       "      <td>2015.0</td>\n",
       "      <td>Shooter</td>\n",
       "      <td>4.59</td>\n",
       "      <td>2.11</td>\n",
       "      <td>0.01</td>\n",
       "      <td>0.68</td>\n",
       "      <td>NaN</td>\n",
       "      <td>NaN</td>\n",
       "      <td>NaN</td>\n",
       "    </tr>\n",
       "    <tr>\n",
       "      <th>104</th>\n",
       "      <td>Battlefield 3</td>\n",
       "      <td>PS3</td>\n",
       "      <td>2011.0</td>\n",
       "      <td>Shooter</td>\n",
       "      <td>2.85</td>\n",
       "      <td>2.89</td>\n",
       "      <td>0.35</td>\n",
       "      <td>1.08</td>\n",
       "      <td>85.0</td>\n",
       "      <td>7.5</td>\n",
       "      <td>M</td>\n",
       "    </tr>\n",
       "    <tr>\n",
       "      <th>120</th>\n",
       "      <td>Call of Duty 4: Modern Warfare</td>\n",
       "      <td>PS3</td>\n",
       "      <td>2007.0</td>\n",
       "      <td>Shooter</td>\n",
       "      <td>3.11</td>\n",
       "      <td>2.26</td>\n",
       "      <td>0.28</td>\n",
       "      <td>1.03</td>\n",
       "      <td>94.0</td>\n",
       "      <td>8.4</td>\n",
       "      <td>M</td>\n",
       "    </tr>\n",
       "    <tr>\n",
       "      <th>130</th>\n",
       "      <td>The Elder Scrolls V: Skyrim</td>\n",
       "      <td>PS3</td>\n",
       "      <td>2011.0</td>\n",
       "      <td>Role-Playing</td>\n",
       "      <td>2.55</td>\n",
       "      <td>2.60</td>\n",
       "      <td>0.25</td>\n",
       "      <td>1.00</td>\n",
       "      <td>92.0</td>\n",
       "      <td>6.4</td>\n",
       "      <td>M</td>\n",
       "    </tr>\n",
       "    <tr>\n",
       "      <th>135</th>\n",
       "      <td>Red Dead Redemption</td>\n",
       "      <td>X360</td>\n",
       "      <td>2010.0</td>\n",
       "      <td>Action</td>\n",
       "      <td>3.70</td>\n",
       "      <td>1.95</td>\n",
       "      <td>0.09</td>\n",
       "      <td>0.58</td>\n",
       "      <td>95.0</td>\n",
       "      <td>9</td>\n",
       "      <td>M</td>\n",
       "    </tr>\n",
       "    <tr>\n",
       "      <th>157</th>\n",
       "      <td>Tetris</td>\n",
       "      <td>NES</td>\n",
       "      <td>1988.0</td>\n",
       "      <td>Puzzle</td>\n",
       "      <td>2.97</td>\n",
       "      <td>0.69</td>\n",
       "      <td>1.81</td>\n",
       "      <td>0.11</td>\n",
       "      <td>NaN</td>\n",
       "      <td>NaN</td>\n",
       "      <td>NaN</td>\n",
       "    </tr>\n",
       "    <tr>\n",
       "      <th>165</th>\n",
       "      <td>Grand Theft Auto V</td>\n",
       "      <td>XOne</td>\n",
       "      <td>2014.0</td>\n",
       "      <td>Action</td>\n",
       "      <td>2.81</td>\n",
       "      <td>2.19</td>\n",
       "      <td>0.00</td>\n",
       "      <td>0.47</td>\n",
       "      <td>97.0</td>\n",
       "      <td>7.9</td>\n",
       "      <td>M</td>\n",
       "    </tr>\n",
       "    <tr>\n",
       "      <th>167</th>\n",
       "      <td>Super Mario World</td>\n",
       "      <td>GBA</td>\n",
       "      <td>2001.0</td>\n",
       "      <td>Platform</td>\n",
       "      <td>3.21</td>\n",
       "      <td>1.11</td>\n",
       "      <td>0.95</td>\n",
       "      <td>0.20</td>\n",
       "      <td>NaN</td>\n",
       "      <td>NaN</td>\n",
       "      <td>NaN</td>\n",
       "    </tr>\n",
       "    <tr>\n",
       "      <th>170</th>\n",
       "      <td>Call of Duty: World at War</td>\n",
       "      <td>PS3</td>\n",
       "      <td>2008.0</td>\n",
       "      <td>Shooter</td>\n",
       "      <td>2.73</td>\n",
       "      <td>1.83</td>\n",
       "      <td>0.00</td>\n",
       "      <td>0.83</td>\n",
       "      <td>85.0</td>\n",
       "      <td>7.6</td>\n",
       "      <td>M</td>\n",
       "    </tr>\n",
       "    <tr>\n",
       "      <th>176</th>\n",
       "      <td>Assassin's Creed III</td>\n",
       "      <td>X360</td>\n",
       "      <td>2012.0</td>\n",
       "      <td>Action</td>\n",
       "      <td>3.13</td>\n",
       "      <td>1.69</td>\n",
       "      <td>0.03</td>\n",
       "      <td>0.44</td>\n",
       "      <td>84.0</td>\n",
       "      <td>6.7</td>\n",
       "      <td>M</td>\n",
       "    </tr>\n",
       "    <tr>\n",
       "      <th>179</th>\n",
       "      <td>Call of Duty: Advanced Warfare</td>\n",
       "      <td>XOne</td>\n",
       "      <td>2014.0</td>\n",
       "      <td>Shooter</td>\n",
       "      <td>3.22</td>\n",
       "      <td>1.55</td>\n",
       "      <td>0.01</td>\n",
       "      <td>0.48</td>\n",
       "      <td>81.0</td>\n",
       "      <td>5.4</td>\n",
       "      <td>M</td>\n",
       "    </tr>\n",
       "    <tr>\n",
       "      <th>180</th>\n",
       "      <td>Minecraft</td>\n",
       "      <td>PS3</td>\n",
       "      <td>2014.0</td>\n",
       "      <td>Misc</td>\n",
       "      <td>2.03</td>\n",
       "      <td>2.37</td>\n",
       "      <td>0.00</td>\n",
       "      <td>0.87</td>\n",
       "      <td>NaN</td>\n",
       "      <td>NaN</td>\n",
       "      <td>NaN</td>\n",
       "    </tr>\n",
       "    <tr>\n",
       "      <th>181</th>\n",
       "      <td>Assassin's Creed II</td>\n",
       "      <td>X360</td>\n",
       "      <td>2009.0</td>\n",
       "      <td>Action</td>\n",
       "      <td>3.11</td>\n",
       "      <td>1.55</td>\n",
       "      <td>0.08</td>\n",
       "      <td>0.51</td>\n",
       "      <td>90.0</td>\n",
       "      <td>8.8</td>\n",
       "      <td>M</td>\n",
       "    </tr>\n",
       "    <tr>\n",
       "      <th>187</th>\n",
       "      <td>Super Mario Bros. 3</td>\n",
       "      <td>GBA</td>\n",
       "      <td>2003.0</td>\n",
       "      <td>Platform</td>\n",
       "      <td>2.93</td>\n",
       "      <td>1.25</td>\n",
       "      <td>0.83</td>\n",
       "      <td>0.20</td>\n",
       "      <td>NaN</td>\n",
       "      <td>NaN</td>\n",
       "      <td>NaN</td>\n",
       "    </tr>\n",
       "    <tr>\n",
       "      <th>190</th>\n",
       "      <td>FIFA Soccer 13</td>\n",
       "      <td>X360</td>\n",
       "      <td>2012.0</td>\n",
       "      <td>Action</td>\n",
       "      <td>1.09</td>\n",
       "      <td>3.47</td>\n",
       "      <td>0.03</td>\n",
       "      <td>0.57</td>\n",
       "      <td>90.0</td>\n",
       "      <td>6.1</td>\n",
       "      <td>E</td>\n",
       "    </tr>\n",
       "    <tr>\n",
       "      <th>198</th>\n",
       "      <td>Mario &amp; Sonic at the Olympic Games</td>\n",
       "      <td>DS</td>\n",
       "      <td>2008.0</td>\n",
       "      <td>Sports</td>\n",
       "      <td>1.63</td>\n",
       "      <td>2.45</td>\n",
       "      <td>0.44</td>\n",
       "      <td>0.57</td>\n",
       "      <td>NaN</td>\n",
       "      <td>NaN</td>\n",
       "      <td>NaN</td>\n",
       "    </tr>\n",
       "    <tr>\n",
       "      <th>201</th>\n",
       "      <td>Super Mario Bros.</td>\n",
       "      <td>GB</td>\n",
       "      <td>1999.0</td>\n",
       "      <td>Platform</td>\n",
       "      <td>3.40</td>\n",
       "      <td>1.30</td>\n",
       "      <td>0.15</td>\n",
       "      <td>0.22</td>\n",
       "      <td>NaN</td>\n",
       "      <td>NaN</td>\n",
       "      <td>NaN</td>\n",
       "    </tr>\n",
       "    <tr>\n",
       "      <th>216</th>\n",
       "      <td>Super Smash Bros. for Wii U and 3DS</td>\n",
       "      <td>WiiU</td>\n",
       "      <td>2014.0</td>\n",
       "      <td>Fighting</td>\n",
       "      <td>2.60</td>\n",
       "      <td>1.08</td>\n",
       "      <td>0.81</td>\n",
       "      <td>0.38</td>\n",
       "      <td>NaN</td>\n",
       "      <td>NaN</td>\n",
       "      <td>NaN</td>\n",
       "    </tr>\n",
       "    <tr>\n",
       "      <th>217</th>\n",
       "      <td>Dr. Mario</td>\n",
       "      <td>NES</td>\n",
       "      <td>1990.0</td>\n",
       "      <td>Puzzle</td>\n",
       "      <td>2.62</td>\n",
       "      <td>0.60</td>\n",
       "      <td>1.52</td>\n",
       "      <td>0.10</td>\n",
       "      <td>NaN</td>\n",
       "      <td>NaN</td>\n",
       "      <td>NaN</td>\n",
       "    </tr>\n",
       "    <tr>\n",
       "      <th>219</th>\n",
       "      <td>Assassin's Creed</td>\n",
       "      <td>PS3</td>\n",
       "      <td>2007.0</td>\n",
       "      <td>Adventure</td>\n",
       "      <td>1.91</td>\n",
       "      <td>2.00</td>\n",
       "      <td>0.09</td>\n",
       "      <td>0.82</td>\n",
       "      <td>81.0</td>\n",
       "      <td>7.3</td>\n",
       "      <td>M</td>\n",
       "    </tr>\n",
       "    <tr>\n",
       "      <th>222</th>\n",
       "      <td>LEGO Star Wars: The Complete Saga</td>\n",
       "      <td>DS</td>\n",
       "      <td>2007.0</td>\n",
       "      <td>Action</td>\n",
       "      <td>2.83</td>\n",
       "      <td>1.48</td>\n",
       "      <td>0.00</td>\n",
       "      <td>0.45</td>\n",
       "      <td>80.0</td>\n",
       "      <td>5.4</td>\n",
       "      <td>E</td>\n",
       "    </tr>\n",
       "    <tr>\n",
       "      <th>...</th>\n",
       "      <td>...</td>\n",
       "      <td>...</td>\n",
       "      <td>...</td>\n",
       "      <td>...</td>\n",
       "      <td>...</td>\n",
       "      <td>...</td>\n",
       "      <td>...</td>\n",
       "      <td>...</td>\n",
       "      <td>...</td>\n",
       "      <td>...</td>\n",
       "      <td>...</td>\n",
       "    </tr>\n",
       "    <tr>\n",
       "      <th>16600</th>\n",
       "      <td>Snood 2: On Vacation</td>\n",
       "      <td>GBA</td>\n",
       "      <td>2005.0</td>\n",
       "      <td>Puzzle</td>\n",
       "      <td>0.01</td>\n",
       "      <td>0.00</td>\n",
       "      <td>0.00</td>\n",
       "      <td>0.00</td>\n",
       "      <td>NaN</td>\n",
       "      <td>NaN</td>\n",
       "      <td>NaN</td>\n",
       "    </tr>\n",
       "    <tr>\n",
       "      <th>16602</th>\n",
       "      <td>Transformers: War for Cybertron (XBox 360, PS3...</td>\n",
       "      <td>PC</td>\n",
       "      <td>2010.0</td>\n",
       "      <td>Shooter</td>\n",
       "      <td>0.01</td>\n",
       "      <td>0.00</td>\n",
       "      <td>0.00</td>\n",
       "      <td>0.00</td>\n",
       "      <td>NaN</td>\n",
       "      <td>NaN</td>\n",
       "      <td>NaN</td>\n",
       "    </tr>\n",
       "    <tr>\n",
       "      <th>16610</th>\n",
       "      <td>Kiniro no Corda 3</td>\n",
       "      <td>3DS</td>\n",
       "      <td>2015.0</td>\n",
       "      <td>Adventure</td>\n",
       "      <td>0.00</td>\n",
       "      <td>0.00</td>\n",
       "      <td>0.01</td>\n",
       "      <td>0.00</td>\n",
       "      <td>NaN</td>\n",
       "      <td>NaN</td>\n",
       "      <td>NaN</td>\n",
       "    </tr>\n",
       "    <tr>\n",
       "      <th>16612</th>\n",
       "      <td>Bakumatsu Rock: Ultra Soul</td>\n",
       "      <td>PSP</td>\n",
       "      <td>2014.0</td>\n",
       "      <td>Misc</td>\n",
       "      <td>0.00</td>\n",
       "      <td>0.00</td>\n",
       "      <td>0.01</td>\n",
       "      <td>0.00</td>\n",
       "      <td>NaN</td>\n",
       "      <td>NaN</td>\n",
       "      <td>NaN</td>\n",
       "    </tr>\n",
       "    <tr>\n",
       "      <th>16614</th>\n",
       "      <td>Legacy of Kain: Defiance</td>\n",
       "      <td>PC</td>\n",
       "      <td>2003.0</td>\n",
       "      <td>Action</td>\n",
       "      <td>0.00</td>\n",
       "      <td>0.01</td>\n",
       "      <td>0.00</td>\n",
       "      <td>0.00</td>\n",
       "      <td>70.0</td>\n",
       "      <td>8.7</td>\n",
       "      <td>M</td>\n",
       "    </tr>\n",
       "    <tr>\n",
       "      <th>16618</th>\n",
       "      <td>Xblaze: Lost Memories</td>\n",
       "      <td>PSV</td>\n",
       "      <td>2015.0</td>\n",
       "      <td>Adventure</td>\n",
       "      <td>0.01</td>\n",
       "      <td>0.00</td>\n",
       "      <td>0.00</td>\n",
       "      <td>0.00</td>\n",
       "      <td>NaN</td>\n",
       "      <td>7</td>\n",
       "      <td>M</td>\n",
       "    </tr>\n",
       "    <tr>\n",
       "      <th>16622</th>\n",
       "      <td>World Snooker Championship 2007</td>\n",
       "      <td>X360</td>\n",
       "      <td>2007.0</td>\n",
       "      <td>Sports</td>\n",
       "      <td>0.00</td>\n",
       "      <td>0.01</td>\n",
       "      <td>0.00</td>\n",
       "      <td>0.00</td>\n",
       "      <td>NaN</td>\n",
       "      <td>NaN</td>\n",
       "      <td>NaN</td>\n",
       "    </tr>\n",
       "    <tr>\n",
       "      <th>16628</th>\n",
       "      <td>Akatsuki no Goei Trinity</td>\n",
       "      <td>PS3</td>\n",
       "      <td>2012.0</td>\n",
       "      <td>Adventure</td>\n",
       "      <td>0.00</td>\n",
       "      <td>0.00</td>\n",
       "      <td>0.01</td>\n",
       "      <td>0.00</td>\n",
       "      <td>NaN</td>\n",
       "      <td>NaN</td>\n",
       "      <td>NaN</td>\n",
       "    </tr>\n",
       "    <tr>\n",
       "      <th>16630</th>\n",
       "      <td>Sébastien Loeb Rally Evo</td>\n",
       "      <td>XOne</td>\n",
       "      <td>2016.0</td>\n",
       "      <td>Racing</td>\n",
       "      <td>0.00</td>\n",
       "      <td>0.01</td>\n",
       "      <td>0.00</td>\n",
       "      <td>0.00</td>\n",
       "      <td>63.0</td>\n",
       "      <td>8.2</td>\n",
       "      <td>E</td>\n",
       "    </tr>\n",
       "    <tr>\n",
       "      <th>16631</th>\n",
       "      <td>The Amazing Spider-Man 2 (2014)</td>\n",
       "      <td>PC</td>\n",
       "      <td>2014.0</td>\n",
       "      <td>Action</td>\n",
       "      <td>0.00</td>\n",
       "      <td>0.01</td>\n",
       "      <td>0.00</td>\n",
       "      <td>0.00</td>\n",
       "      <td>NaN</td>\n",
       "      <td>NaN</td>\n",
       "      <td>NaN</td>\n",
       "    </tr>\n",
       "    <tr>\n",
       "      <th>16633</th>\n",
       "      <td>SBK Superbike World Championship</td>\n",
       "      <td>PSP</td>\n",
       "      <td>2008.0</td>\n",
       "      <td>Racing</td>\n",
       "      <td>0.01</td>\n",
       "      <td>0.00</td>\n",
       "      <td>0.00</td>\n",
       "      <td>0.00</td>\n",
       "      <td>NaN</td>\n",
       "      <td>tbd</td>\n",
       "      <td>E10+</td>\n",
       "    </tr>\n",
       "    <tr>\n",
       "      <th>16636</th>\n",
       "      <td>Deal or No Deal</td>\n",
       "      <td>PC</td>\n",
       "      <td>2006.0</td>\n",
       "      <td>Misc</td>\n",
       "      <td>0.00</td>\n",
       "      <td>0.01</td>\n",
       "      <td>0.00</td>\n",
       "      <td>0.00</td>\n",
       "      <td>NaN</td>\n",
       "      <td>7.5</td>\n",
       "      <td>E</td>\n",
       "    </tr>\n",
       "    <tr>\n",
       "      <th>16638</th>\n",
       "      <td>Tour de France 2014</td>\n",
       "      <td>PS3</td>\n",
       "      <td>2014.0</td>\n",
       "      <td>Sports</td>\n",
       "      <td>0.00</td>\n",
       "      <td>0.01</td>\n",
       "      <td>0.00</td>\n",
       "      <td>0.00</td>\n",
       "      <td>NaN</td>\n",
       "      <td>tbd</td>\n",
       "      <td>E</td>\n",
       "    </tr>\n",
       "    <tr>\n",
       "      <th>16643</th>\n",
       "      <td>Rugby Challenge 3</td>\n",
       "      <td>XOne</td>\n",
       "      <td>2016.0</td>\n",
       "      <td>Sports</td>\n",
       "      <td>0.00</td>\n",
       "      <td>0.01</td>\n",
       "      <td>0.00</td>\n",
       "      <td>0.00</td>\n",
       "      <td>NaN</td>\n",
       "      <td>6.6</td>\n",
       "      <td>E</td>\n",
       "    </tr>\n",
       "    <tr>\n",
       "      <th>16645</th>\n",
       "      <td>ZombiU</td>\n",
       "      <td>XOne</td>\n",
       "      <td>2016.0</td>\n",
       "      <td>Action</td>\n",
       "      <td>0.00</td>\n",
       "      <td>0.01</td>\n",
       "      <td>0.00</td>\n",
       "      <td>0.00</td>\n",
       "      <td>NaN</td>\n",
       "      <td>NaN</td>\n",
       "      <td>NaN</td>\n",
       "    </tr>\n",
       "    <tr>\n",
       "      <th>16646</th>\n",
       "      <td>Time Travelers</td>\n",
       "      <td>PSP</td>\n",
       "      <td>2012.0</td>\n",
       "      <td>Adventure</td>\n",
       "      <td>0.00</td>\n",
       "      <td>0.00</td>\n",
       "      <td>0.01</td>\n",
       "      <td>0.00</td>\n",
       "      <td>NaN</td>\n",
       "      <td>NaN</td>\n",
       "      <td>NaN</td>\n",
       "    </tr>\n",
       "    <tr>\n",
       "      <th>16647</th>\n",
       "      <td>Metal Gear Solid HD Edition</td>\n",
       "      <td>X360</td>\n",
       "      <td>2011.0</td>\n",
       "      <td>Action</td>\n",
       "      <td>0.00</td>\n",
       "      <td>0.00</td>\n",
       "      <td>0.01</td>\n",
       "      <td>0.00</td>\n",
       "      <td>NaN</td>\n",
       "      <td>tbd</td>\n",
       "      <td>M</td>\n",
       "    </tr>\n",
       "    <tr>\n",
       "      <th>16651</th>\n",
       "      <td>The Rise of the Argonauts</td>\n",
       "      <td>PC</td>\n",
       "      <td>2008.0</td>\n",
       "      <td>Role-Playing</td>\n",
       "      <td>0.00</td>\n",
       "      <td>0.01</td>\n",
       "      <td>0.00</td>\n",
       "      <td>0.00</td>\n",
       "      <td>NaN</td>\n",
       "      <td>NaN</td>\n",
       "      <td>NaN</td>\n",
       "    </tr>\n",
       "    <tr>\n",
       "      <th>16654</th>\n",
       "      <td>Ben 10 Omniverse 2</td>\n",
       "      <td>X360</td>\n",
       "      <td>2013.0</td>\n",
       "      <td>Action</td>\n",
       "      <td>0.00</td>\n",
       "      <td>0.01</td>\n",
       "      <td>0.00</td>\n",
       "      <td>0.00</td>\n",
       "      <td>NaN</td>\n",
       "      <td>5.1</td>\n",
       "      <td>E10+</td>\n",
       "    </tr>\n",
       "    <tr>\n",
       "      <th>16660</th>\n",
       "      <td>Prison Architect</td>\n",
       "      <td>XOne</td>\n",
       "      <td>2016.0</td>\n",
       "      <td>Action</td>\n",
       "      <td>0.01</td>\n",
       "      <td>0.00</td>\n",
       "      <td>0.00</td>\n",
       "      <td>0.00</td>\n",
       "      <td>74.0</td>\n",
       "      <td>6.7</td>\n",
       "      <td>NaN</td>\n",
       "    </tr>\n",
       "    <tr>\n",
       "      <th>16672</th>\n",
       "      <td>Metal Gear Solid V: The Definitive Experience</td>\n",
       "      <td>XOne</td>\n",
       "      <td>2016.0</td>\n",
       "      <td>Action</td>\n",
       "      <td>0.01</td>\n",
       "      <td>0.00</td>\n",
       "      <td>0.00</td>\n",
       "      <td>0.00</td>\n",
       "      <td>NaN</td>\n",
       "      <td>tbd</td>\n",
       "      <td>M</td>\n",
       "    </tr>\n",
       "    <tr>\n",
       "      <th>16673</th>\n",
       "      <td>Mortal Kombat: Deadly Alliance</td>\n",
       "      <td>GBA</td>\n",
       "      <td>2002.0</td>\n",
       "      <td>Fighting</td>\n",
       "      <td>0.01</td>\n",
       "      <td>0.00</td>\n",
       "      <td>0.00</td>\n",
       "      <td>0.00</td>\n",
       "      <td>81.0</td>\n",
       "      <td>8.8</td>\n",
       "      <td>M</td>\n",
       "    </tr>\n",
       "    <tr>\n",
       "      <th>16690</th>\n",
       "      <td>Pony Friends 2</td>\n",
       "      <td>PC</td>\n",
       "      <td>2009.0</td>\n",
       "      <td>Simulation</td>\n",
       "      <td>0.00</td>\n",
       "      <td>0.01</td>\n",
       "      <td>0.00</td>\n",
       "      <td>0.00</td>\n",
       "      <td>NaN</td>\n",
       "      <td>NaN</td>\n",
       "      <td>NaN</td>\n",
       "    </tr>\n",
       "    <tr>\n",
       "      <th>16691</th>\n",
       "      <td>Dynasty Warriors: Eiketsuden</td>\n",
       "      <td>PS3</td>\n",
       "      <td>2016.0</td>\n",
       "      <td>Action</td>\n",
       "      <td>0.00</td>\n",
       "      <td>0.00</td>\n",
       "      <td>0.01</td>\n",
       "      <td>0.00</td>\n",
       "      <td>NaN</td>\n",
       "      <td>NaN</td>\n",
       "      <td>NaN</td>\n",
       "    </tr>\n",
       "    <tr>\n",
       "      <th>16692</th>\n",
       "      <td>Metal Gear Solid V: Ground Zeroes</td>\n",
       "      <td>PC</td>\n",
       "      <td>2014.0</td>\n",
       "      <td>Action</td>\n",
       "      <td>0.00</td>\n",
       "      <td>0.01</td>\n",
       "      <td>0.00</td>\n",
       "      <td>0.00</td>\n",
       "      <td>80.0</td>\n",
       "      <td>7.6</td>\n",
       "      <td>M</td>\n",
       "    </tr>\n",
       "    <tr>\n",
       "      <th>16706</th>\n",
       "      <td>Men in Black II: Alien Escape</td>\n",
       "      <td>GC</td>\n",
       "      <td>2003.0</td>\n",
       "      <td>Shooter</td>\n",
       "      <td>0.01</td>\n",
       "      <td>0.00</td>\n",
       "      <td>0.00</td>\n",
       "      <td>0.00</td>\n",
       "      <td>NaN</td>\n",
       "      <td>tbd</td>\n",
       "      <td>T</td>\n",
       "    </tr>\n",
       "    <tr>\n",
       "      <th>16709</th>\n",
       "      <td>SCORE International Baja 1000: The Official Game</td>\n",
       "      <td>PS2</td>\n",
       "      <td>2008.0</td>\n",
       "      <td>Racing</td>\n",
       "      <td>0.00</td>\n",
       "      <td>0.00</td>\n",
       "      <td>0.00</td>\n",
       "      <td>0.00</td>\n",
       "      <td>NaN</td>\n",
       "      <td>NaN</td>\n",
       "      <td>NaN</td>\n",
       "    </tr>\n",
       "    <tr>\n",
       "      <th>16710</th>\n",
       "      <td>Samurai Warriors: Sanada Maru</td>\n",
       "      <td>PS3</td>\n",
       "      <td>2016.0</td>\n",
       "      <td>Action</td>\n",
       "      <td>0.00</td>\n",
       "      <td>0.00</td>\n",
       "      <td>0.01</td>\n",
       "      <td>0.00</td>\n",
       "      <td>NaN</td>\n",
       "      <td>NaN</td>\n",
       "      <td>NaN</td>\n",
       "    </tr>\n",
       "    <tr>\n",
       "      <th>16713</th>\n",
       "      <td>Spirits &amp; Spells</td>\n",
       "      <td>GBA</td>\n",
       "      <td>2003.0</td>\n",
       "      <td>Platform</td>\n",
       "      <td>0.01</td>\n",
       "      <td>0.00</td>\n",
       "      <td>0.00</td>\n",
       "      <td>0.00</td>\n",
       "      <td>NaN</td>\n",
       "      <td>NaN</td>\n",
       "      <td>NaN</td>\n",
       "    </tr>\n",
       "    <tr>\n",
       "      <th>16714</th>\n",
       "      <td>Winning Post 8 2016</td>\n",
       "      <td>PSV</td>\n",
       "      <td>2016.0</td>\n",
       "      <td>Simulation</td>\n",
       "      <td>0.00</td>\n",
       "      <td>0.00</td>\n",
       "      <td>0.01</td>\n",
       "      <td>0.00</td>\n",
       "      <td>NaN</td>\n",
       "      <td>NaN</td>\n",
       "      <td>NaN</td>\n",
       "    </tr>\n",
       "  </tbody>\n",
       "</table>\n",
       "<p>5155 rows × 11 columns</p>\n",
       "</div>"
      ],
      "text/plain": [
       "                                                    Name Platform  \\\n",
       "23                                    Grand Theft Auto V     X360   \n",
       "35                            Call of Duty: Black Ops II     X360   \n",
       "37                        Call of Duty: Modern Warfare 3      PS3   \n",
       "41                               Call of Duty: Black Ops      PS3   \n",
       "42                                    Grand Theft Auto V      PS4   \n",
       "55                        Call of Duty: Modern Warfare 2      PS3   \n",
       "57                                   Grand Theft Auto IV      PS3   \n",
       "59                                        Super Mario 64       DS   \n",
       "69                                  Call of Duty: Ghosts      PS3   \n",
       "99                             Call of Duty: Black Ops 3     XOne   \n",
       "104                                        Battlefield 3      PS3   \n",
       "120                       Call of Duty 4: Modern Warfare      PS3   \n",
       "130                          The Elder Scrolls V: Skyrim      PS3   \n",
       "135                                  Red Dead Redemption     X360   \n",
       "157                                               Tetris      NES   \n",
       "165                                   Grand Theft Auto V     XOne   \n",
       "167                                    Super Mario World      GBA   \n",
       "170                           Call of Duty: World at War      PS3   \n",
       "176                                 Assassin's Creed III     X360   \n",
       "179                       Call of Duty: Advanced Warfare     XOne   \n",
       "180                                            Minecraft      PS3   \n",
       "181                                  Assassin's Creed II     X360   \n",
       "187                                  Super Mario Bros. 3      GBA   \n",
       "190                                       FIFA Soccer 13     X360   \n",
       "198                   Mario & Sonic at the Olympic Games       DS   \n",
       "201                                    Super Mario Bros.       GB   \n",
       "216                  Super Smash Bros. for Wii U and 3DS     WiiU   \n",
       "217                                            Dr. Mario      NES   \n",
       "219                                     Assassin's Creed      PS3   \n",
       "222                    LEGO Star Wars: The Complete Saga       DS   \n",
       "...                                                  ...      ...   \n",
       "16600                               Snood 2: On Vacation      GBA   \n",
       "16602  Transformers: War for Cybertron (XBox 360, PS3...       PC   \n",
       "16610                                  Kiniro no Corda 3      3DS   \n",
       "16612                         Bakumatsu Rock: Ultra Soul      PSP   \n",
       "16614                           Legacy of Kain: Defiance       PC   \n",
       "16618                              Xblaze: Lost Memories      PSV   \n",
       "16622                    World Snooker Championship 2007     X360   \n",
       "16628                           Akatsuki no Goei Trinity      PS3   \n",
       "16630                           Sébastien Loeb Rally Evo     XOne   \n",
       "16631                    The Amazing Spider-Man 2 (2014)       PC   \n",
       "16633                   SBK Superbike World Championship      PSP   \n",
       "16636                                    Deal or No Deal       PC   \n",
       "16638                                Tour de France 2014      PS3   \n",
       "16643                                  Rugby Challenge 3     XOne   \n",
       "16645                                             ZombiU     XOne   \n",
       "16646                                     Time Travelers      PSP   \n",
       "16647                        Metal Gear Solid HD Edition     X360   \n",
       "16651                          The Rise of the Argonauts       PC   \n",
       "16654                                 Ben 10 Omniverse 2     X360   \n",
       "16660                                   Prison Architect     XOne   \n",
       "16672      Metal Gear Solid V: The Definitive Experience     XOne   \n",
       "16673                     Mortal Kombat: Deadly Alliance      GBA   \n",
       "16690                                     Pony Friends 2       PC   \n",
       "16691                       Dynasty Warriors: Eiketsuden      PS3   \n",
       "16692                  Metal Gear Solid V: Ground Zeroes       PC   \n",
       "16706                      Men in Black II: Alien Escape       GC   \n",
       "16709   SCORE International Baja 1000: The Official Game      PS2   \n",
       "16710                      Samurai Warriors: Sanada Maru      PS3   \n",
       "16713                                   Spirits & Spells      GBA   \n",
       "16714                                Winning Post 8 2016      PSV   \n",
       "\n",
       "       Year_of_Release         Genre  NA_sales  EU_sales  JP_sales  \\\n",
       "23              2013.0        Action      9.66      5.14      0.06   \n",
       "35              2012.0       Shooter      8.25      4.24      0.07   \n",
       "37              2011.0       Shooter      5.54      5.73      0.49   \n",
       "41              2010.0       Shooter      5.99      4.37      0.48   \n",
       "42              2014.0        Action      3.96      6.31      0.38   \n",
       "55              2009.0       Shooter      4.99      3.64      0.38   \n",
       "57              2008.0        Action      4.76      3.69      0.44   \n",
       "59              2004.0      Platform      5.01      3.07      1.25   \n",
       "69              2013.0       Shooter      4.10      3.63      0.38   \n",
       "99              2015.0       Shooter      4.59      2.11      0.01   \n",
       "104             2011.0       Shooter      2.85      2.89      0.35   \n",
       "120             2007.0       Shooter      3.11      2.26      0.28   \n",
       "130             2011.0  Role-Playing      2.55      2.60      0.25   \n",
       "135             2010.0        Action      3.70      1.95      0.09   \n",
       "157             1988.0        Puzzle      2.97      0.69      1.81   \n",
       "165             2014.0        Action      2.81      2.19      0.00   \n",
       "167             2001.0      Platform      3.21      1.11      0.95   \n",
       "170             2008.0       Shooter      2.73      1.83      0.00   \n",
       "176             2012.0        Action      3.13      1.69      0.03   \n",
       "179             2014.0       Shooter      3.22      1.55      0.01   \n",
       "180             2014.0          Misc      2.03      2.37      0.00   \n",
       "181             2009.0        Action      3.11      1.55      0.08   \n",
       "187             2003.0      Platform      2.93      1.25      0.83   \n",
       "190             2012.0        Action      1.09      3.47      0.03   \n",
       "198             2008.0        Sports      1.63      2.45      0.44   \n",
       "201             1999.0      Platform      3.40      1.30      0.15   \n",
       "216             2014.0      Fighting      2.60      1.08      0.81   \n",
       "217             1990.0        Puzzle      2.62      0.60      1.52   \n",
       "219             2007.0     Adventure      1.91      2.00      0.09   \n",
       "222             2007.0        Action      2.83      1.48      0.00   \n",
       "...                ...           ...       ...       ...       ...   \n",
       "16600           2005.0        Puzzle      0.01      0.00      0.00   \n",
       "16602           2010.0       Shooter      0.01      0.00      0.00   \n",
       "16610           2015.0     Adventure      0.00      0.00      0.01   \n",
       "16612           2014.0          Misc      0.00      0.00      0.01   \n",
       "16614           2003.0        Action      0.00      0.01      0.00   \n",
       "16618           2015.0     Adventure      0.01      0.00      0.00   \n",
       "16622           2007.0        Sports      0.00      0.01      0.00   \n",
       "16628           2012.0     Adventure      0.00      0.00      0.01   \n",
       "16630           2016.0        Racing      0.00      0.01      0.00   \n",
       "16631           2014.0        Action      0.00      0.01      0.00   \n",
       "16633           2008.0        Racing      0.01      0.00      0.00   \n",
       "16636           2006.0          Misc      0.00      0.01      0.00   \n",
       "16638           2014.0        Sports      0.00      0.01      0.00   \n",
       "16643           2016.0        Sports      0.00      0.01      0.00   \n",
       "16645           2016.0        Action      0.00      0.01      0.00   \n",
       "16646           2012.0     Adventure      0.00      0.00      0.01   \n",
       "16647           2011.0        Action      0.00      0.00      0.01   \n",
       "16651           2008.0  Role-Playing      0.00      0.01      0.00   \n",
       "16654           2013.0        Action      0.00      0.01      0.00   \n",
       "16660           2016.0        Action      0.01      0.00      0.00   \n",
       "16672           2016.0        Action      0.01      0.00      0.00   \n",
       "16673           2002.0      Fighting      0.01      0.00      0.00   \n",
       "16690           2009.0    Simulation      0.00      0.01      0.00   \n",
       "16691           2016.0        Action      0.00      0.00      0.01   \n",
       "16692           2014.0        Action      0.00      0.01      0.00   \n",
       "16706           2003.0       Shooter      0.01      0.00      0.00   \n",
       "16709           2008.0        Racing      0.00      0.00      0.00   \n",
       "16710           2016.0        Action      0.00      0.00      0.01   \n",
       "16713           2003.0      Platform      0.01      0.00      0.00   \n",
       "16714           2016.0    Simulation      0.00      0.00      0.01   \n",
       "\n",
       "       Other_sales  Critic_Score User_Score Rating  \n",
       "23            1.41          97.0        8.1      M  \n",
       "35            1.12          83.0        4.8      M  \n",
       "37            1.57          88.0        3.2      M  \n",
       "41            1.79          88.0        6.4      M  \n",
       "42            1.97          97.0        8.3      M  \n",
       "55            1.60          94.0        6.3      M  \n",
       "57            1.61          98.0        7.5      M  \n",
       "59            0.97           NaN        NaN    NaN  \n",
       "69            1.25          71.0        2.6      M  \n",
       "99            0.68           NaN        NaN    NaN  \n",
       "104           1.08          85.0        7.5      M  \n",
       "120           1.03          94.0        8.4      M  \n",
       "130           1.00          92.0        6.4      M  \n",
       "135           0.58          95.0          9      M  \n",
       "157           0.11           NaN        NaN    NaN  \n",
       "165           0.47          97.0        7.9      M  \n",
       "167           0.20           NaN        NaN    NaN  \n",
       "170           0.83          85.0        7.6      M  \n",
       "176           0.44          84.0        6.7      M  \n",
       "179           0.48          81.0        5.4      M  \n",
       "180           0.87           NaN        NaN    NaN  \n",
       "181           0.51          90.0        8.8      M  \n",
       "187           0.20           NaN        NaN    NaN  \n",
       "190           0.57          90.0        6.1      E  \n",
       "198           0.57           NaN        NaN    NaN  \n",
       "201           0.22           NaN        NaN    NaN  \n",
       "216           0.38           NaN        NaN    NaN  \n",
       "217           0.10           NaN        NaN    NaN  \n",
       "219           0.82          81.0        7.3      M  \n",
       "222           0.45          80.0        5.4      E  \n",
       "...            ...           ...        ...    ...  \n",
       "16600         0.00           NaN        NaN    NaN  \n",
       "16602         0.00           NaN        NaN    NaN  \n",
       "16610         0.00           NaN        NaN    NaN  \n",
       "16612         0.00           NaN        NaN    NaN  \n",
       "16614         0.00          70.0        8.7      M  \n",
       "16618         0.00           NaN          7      M  \n",
       "16622         0.00           NaN        NaN    NaN  \n",
       "16628         0.00           NaN        NaN    NaN  \n",
       "16630         0.00          63.0        8.2      E  \n",
       "16631         0.00           NaN        NaN    NaN  \n",
       "16633         0.00           NaN        tbd   E10+  \n",
       "16636         0.00           NaN        7.5      E  \n",
       "16638         0.00           NaN        tbd      E  \n",
       "16643         0.00           NaN        6.6      E  \n",
       "16645         0.00           NaN        NaN    NaN  \n",
       "16646         0.00           NaN        NaN    NaN  \n",
       "16647         0.00           NaN        tbd      M  \n",
       "16651         0.00           NaN        NaN    NaN  \n",
       "16654         0.00           NaN        5.1   E10+  \n",
       "16660         0.00          74.0        6.7    NaN  \n",
       "16672         0.00           NaN        tbd      M  \n",
       "16673         0.00          81.0        8.8      M  \n",
       "16690         0.00           NaN        NaN    NaN  \n",
       "16691         0.00           NaN        NaN    NaN  \n",
       "16692         0.00          80.0        7.6      M  \n",
       "16706         0.00           NaN        tbd      T  \n",
       "16709         0.00           NaN        NaN    NaN  \n",
       "16710         0.00           NaN        NaN    NaN  \n",
       "16713         0.00           NaN        NaN    NaN  \n",
       "16714         0.00           NaN        NaN    NaN  \n",
       "\n",
       "[5155 rows x 11 columns]"
      ]
     },
     "execution_count": 11,
     "metadata": {},
     "output_type": "execute_result"
    }
   ],
   "source": [
    "data.loc[data['Name'].duplicated()]"
   ]
  },
  {
   "cell_type": "markdown",
   "metadata": {},
   "source": [
    "Дубликаты в колонке Name объясняются тем, что игры выходили в разное время на разных платформах, поэтому несмотря на то, что игра одна и та же, релизы – разные."
   ]
  },
  {
   "cell_type": "markdown",
   "metadata": {},
   "source": [
    "Приведем название колонок к общему виду."
   ]
  },
  {
   "cell_type": "code",
   "execution_count": 12,
   "metadata": {},
   "outputs": [],
   "source": [
    "data.columns = ['name', 'platform', 'release_year', 'genre', 'na_sales', 'eu_sales',\n",
    "       'jp_sales', 'other_sales', 'critic_score', 'user_score', 'rating']"
   ]
  },
  {
   "cell_type": "code",
   "execution_count": 13,
   "metadata": {},
   "outputs": [
    {
     "data": {
      "text/plain": [
       "Index(['name', 'platform', 'release_year', 'genre', 'na_sales', 'eu_sales',\n",
       "       'jp_sales', 'other_sales', 'critic_score', 'user_score', 'rating'],\n",
       "      dtype='object')"
      ]
     },
     "execution_count": 13,
     "metadata": {},
     "output_type": "execute_result"
    }
   ],
   "source": [
    "data.columns"
   ]
  },
  {
   "cell_type": "markdown",
   "metadata": {},
   "source": [
    "# Часть 2. Подготовка данных\n",
    "<a id='3-bullet'></a>\n",
    "## 2.1 Обработка пропусков и приведение данных к нужным типам"
   ]
  },
  {
   "cell_type": "code",
   "execution_count": 14,
   "metadata": {},
   "outputs": [
    {
     "name": "stdout",
     "output_type": "stream",
     "text": [
      "<class 'pandas.core.frame.DataFrame'>\n",
      "RangeIndex: 16715 entries, 0 to 16714\n",
      "Data columns (total 11 columns):\n",
      "name            16713 non-null object\n",
      "platform        16715 non-null object\n",
      "release_year    16446 non-null float64\n",
      "genre           16713 non-null object\n",
      "na_sales        16715 non-null float64\n",
      "eu_sales        16715 non-null float64\n",
      "jp_sales        16715 non-null float64\n",
      "other_sales     16715 non-null float64\n",
      "critic_score    8137 non-null float64\n",
      "user_score      10014 non-null object\n",
      "rating          9949 non-null object\n",
      "dtypes: float64(6), object(5)\n",
      "memory usage: 1.4+ MB\n"
     ]
    }
   ],
   "source": [
    "data.info()"
   ]
  },
  {
   "cell_type": "markdown",
   "metadata": {},
   "source": [
    "### name и genre"
   ]
  },
  {
   "cell_type": "markdown",
   "metadata": {},
   "source": [
    "В колонке name и genre два пропуска – информация из этих колонок невосстанавливаемая, скорее всего эти пропуски нужно будет удалить. Рассмотрим строки внимательнее."
   ]
  },
  {
   "cell_type": "code",
   "execution_count": 15,
   "metadata": {},
   "outputs": [
    {
     "data": {
      "text/plain": [
       "2"
      ]
     },
     "execution_count": 15,
     "metadata": {},
     "output_type": "execute_result"
    }
   ],
   "source": [
    "data['name'].isna().sum()"
   ]
  },
  {
   "cell_type": "code",
   "execution_count": 16,
   "metadata": {},
   "outputs": [],
   "source": [
    "data.drop(data.loc[data['name'].isna()].index, inplace=True)"
   ]
  },
  {
   "cell_type": "code",
   "execution_count": 17,
   "metadata": {},
   "outputs": [
    {
     "name": "stdout",
     "output_type": "stream",
     "text": [
      "<class 'pandas.core.frame.DataFrame'>\n",
      "Int64Index: 16713 entries, 0 to 16714\n",
      "Data columns (total 11 columns):\n",
      "name            16713 non-null object\n",
      "platform        16713 non-null object\n",
      "release_year    16444 non-null float64\n",
      "genre           16713 non-null object\n",
      "na_sales        16713 non-null float64\n",
      "eu_sales        16713 non-null float64\n",
      "jp_sales        16713 non-null float64\n",
      "other_sales     16713 non-null float64\n",
      "critic_score    8137 non-null float64\n",
      "user_score      10014 non-null object\n",
      "rating          9949 non-null object\n",
      "dtypes: float64(6), object(5)\n",
      "memory usage: 1.5+ MB\n"
     ]
    }
   ],
   "source": [
    "data.info()"
   ]
  },
  {
   "cell_type": "code",
   "execution_count": 18,
   "metadata": {},
   "outputs": [
    {
     "data": {
      "text/plain": [
       "0.016095255190570215"
      ]
     },
     "execution_count": 18,
     "metadata": {},
     "output_type": "execute_result"
    }
   ],
   "source": [
    "data['release_year'].isna().sum()/data.shape[0]"
   ]
  },
  {
   "cell_type": "code",
   "execution_count": 19,
   "metadata": {},
   "outputs": [
    {
     "data": {
      "text/plain": [
       "<matplotlib.axes._subplots.AxesSubplot at 0x1a1b1d2438>"
      ]
     },
     "execution_count": 19,
     "metadata": {},
     "output_type": "execute_result"
    },
    {
     "data": {
      "image/png": "[encoded data removed]",
      "text/plain": [
       "<Figure size 432x288 with 1 Axes>"
      ]
     },
     "metadata": {
      "needs_background": "light"
     },
     "output_type": "display_data"
    }
   ],
   "source": [
    "data.loc[data['release_year'].isna()]['critic_score'].hist(bins=50)"
   ]
  },
  {
   "cell_type": "markdown",
   "metadata": {},
   "source": [
    "Выяснить дату релиза можно из некоторых названий игр. Однако доля игр, для которых не указана дата релиза составляет менее 0.2% от датасета. Эффективней будет удалить строки, чем заниматься спасением 0.2% данных из датасета. Кроме того, распределение оценок критиков на эти игры похоже на нормальное, таким образом скорее всего данные, которые мы удаляем, не несут критично важной информации."
   ]
  },
  {
   "cell_type": "code",
   "execution_count": 20,
   "metadata": {},
   "outputs": [],
   "source": [
    "data.drop(data.loc[data['release_year'].isna()].index, inplace=True)"
   ]
  },
  {
   "cell_type": "code",
   "execution_count": 21,
   "metadata": {},
   "outputs": [
    {
     "data": {
      "text/plain": [
       "2008.0    1427\n",
       "2009.0    1426\n",
       "2010.0    1255\n",
       "2007.0    1197\n",
       "2011.0    1136\n",
       "2006.0    1006\n",
       "2005.0     939\n",
       "2002.0     829\n",
       "2003.0     775\n",
       "2004.0     762\n",
       "2012.0     653\n",
       "2015.0     606\n",
       "2014.0     581\n",
       "2013.0     544\n",
       "2016.0     502\n",
       "2001.0     482\n",
       "1998.0     379\n",
       "2000.0     350\n",
       "1999.0     338\n",
       "1997.0     289\n",
       "1996.0     263\n",
       "1995.0     219\n",
       "1994.0     121\n",
       "1993.0      60\n",
       "1981.0      46\n",
       "1992.0      43\n",
       "1991.0      41\n",
       "1982.0      36\n",
       "1986.0      21\n",
       "1989.0      17\n",
       "1983.0      17\n",
       "1990.0      16\n",
       "1987.0      16\n",
       "1988.0      15\n",
       "1985.0      14\n",
       "1984.0      14\n",
       "1980.0       9\n",
       "Name: release_year, dtype: int64"
      ]
     },
     "execution_count": 21,
     "metadata": {},
     "output_type": "execute_result"
    }
   ],
   "source": [
    "data['release_year'].value_counts()"
   ]
  },
  {
   "cell_type": "markdown",
   "metadata": {},
   "source": [
    "С колонками о продажах все в порядке. Добавим в таблицу колонку all_sales. "
   ]
  },
  {
   "cell_type": "code",
   "execution_count": 22,
   "metadata": {},
   "outputs": [],
   "source": [
    "data['all_sales'] = data['na_sales']+data['eu_sales']+data['jp_sales']+data['other_sales']"
   ]
  },
  {
   "cell_type": "code",
   "execution_count": 23,
   "metadata": {},
   "outputs": [
    {
     "data": {
      "text/html": [
       "<div>\n",
       "<style scoped>\n",
       "    .dataframe tbody tr th:only-of-type {\n",
       "        vertical-align: middle;\n",
       "    }\n",
       "\n",
       "    .dataframe tbody tr th {\n",
       "        vertical-align: top;\n",
       "    }\n",
       "\n",
       "    .dataframe thead th {\n",
       "        text-align: right;\n",
       "    }\n",
       "</style>\n",
       "<table border=\"1\" class=\"dataframe\">\n",
       "  <thead>\n",
       "    <tr style=\"text-align: right;\">\n",
       "      <th></th>\n",
       "      <th>name</th>\n",
       "      <th>platform</th>\n",
       "      <th>release_year</th>\n",
       "      <th>genre</th>\n",
       "      <th>na_sales</th>\n",
       "      <th>eu_sales</th>\n",
       "      <th>jp_sales</th>\n",
       "      <th>other_sales</th>\n",
       "      <th>critic_score</th>\n",
       "      <th>user_score</th>\n",
       "      <th>rating</th>\n",
       "      <th>all_sales</th>\n",
       "    </tr>\n",
       "  </thead>\n",
       "  <tbody>\n",
       "    <tr>\n",
       "      <th>0</th>\n",
       "      <td>Wii Sports</td>\n",
       "      <td>Wii</td>\n",
       "      <td>2006.0</td>\n",
       "      <td>Sports</td>\n",
       "      <td>41.36</td>\n",
       "      <td>28.96</td>\n",
       "      <td>3.77</td>\n",
       "      <td>8.45</td>\n",
       "      <td>76.0</td>\n",
       "      <td>8</td>\n",
       "      <td>E</td>\n",
       "      <td>82.54</td>\n",
       "    </tr>\n",
       "    <tr>\n",
       "      <th>1</th>\n",
       "      <td>Super Mario Bros.</td>\n",
       "      <td>NES</td>\n",
       "      <td>1985.0</td>\n",
       "      <td>Platform</td>\n",
       "      <td>29.08</td>\n",
       "      <td>3.58</td>\n",
       "      <td>6.81</td>\n",
       "      <td>0.77</td>\n",
       "      <td>NaN</td>\n",
       "      <td>NaN</td>\n",
       "      <td>NaN</td>\n",
       "      <td>40.24</td>\n",
       "    </tr>\n",
       "    <tr>\n",
       "      <th>2</th>\n",
       "      <td>Mario Kart Wii</td>\n",
       "      <td>Wii</td>\n",
       "      <td>2008.0</td>\n",
       "      <td>Racing</td>\n",
       "      <td>15.68</td>\n",
       "      <td>12.76</td>\n",
       "      <td>3.79</td>\n",
       "      <td>3.29</td>\n",
       "      <td>82.0</td>\n",
       "      <td>8.3</td>\n",
       "      <td>E</td>\n",
       "      <td>35.52</td>\n",
       "    </tr>\n",
       "    <tr>\n",
       "      <th>3</th>\n",
       "      <td>Wii Sports Resort</td>\n",
       "      <td>Wii</td>\n",
       "      <td>2009.0</td>\n",
       "      <td>Sports</td>\n",
       "      <td>15.61</td>\n",
       "      <td>10.93</td>\n",
       "      <td>3.28</td>\n",
       "      <td>2.95</td>\n",
       "      <td>80.0</td>\n",
       "      <td>8</td>\n",
       "      <td>E</td>\n",
       "      <td>32.77</td>\n",
       "    </tr>\n",
       "    <tr>\n",
       "      <th>4</th>\n",
       "      <td>Pokemon Red/Pokemon Blue</td>\n",
       "      <td>GB</td>\n",
       "      <td>1996.0</td>\n",
       "      <td>Role-Playing</td>\n",
       "      <td>11.27</td>\n",
       "      <td>8.89</td>\n",
       "      <td>10.22</td>\n",
       "      <td>1.00</td>\n",
       "      <td>NaN</td>\n",
       "      <td>NaN</td>\n",
       "      <td>NaN</td>\n",
       "      <td>31.38</td>\n",
       "    </tr>\n",
       "  </tbody>\n",
       "</table>\n",
       "</div>"
      ],
      "text/plain": [
       "                       name platform  release_year         genre  na_sales  \\\n",
       "0                Wii Sports      Wii        2006.0        Sports     41.36   \n",
       "1         Super Mario Bros.      NES        1985.0      Platform     29.08   \n",
       "2            Mario Kart Wii      Wii        2008.0        Racing     15.68   \n",
       "3         Wii Sports Resort      Wii        2009.0        Sports     15.61   \n",
       "4  Pokemon Red/Pokemon Blue       GB        1996.0  Role-Playing     11.27   \n",
       "\n",
       "   eu_sales  jp_sales  other_sales  critic_score user_score rating  all_sales  \n",
       "0     28.96      3.77         8.45          76.0          8      E      82.54  \n",
       "1      3.58      6.81         0.77           NaN        NaN    NaN      40.24  \n",
       "2     12.76      3.79         3.29          82.0        8.3      E      35.52  \n",
       "3     10.93      3.28         2.95          80.0          8      E      32.77  \n",
       "4      8.89     10.22         1.00           NaN        NaN    NaN      31.38  "
      ]
     },
     "execution_count": 23,
     "metadata": {},
     "output_type": "execute_result"
    }
   ],
   "source": [
    "data.head()"
   ]
  },
  {
   "cell_type": "markdown",
   "metadata": {},
   "source": [
    "### rating, critic_score, user_score"
   ]
  },
  {
   "cell_type": "code",
   "execution_count": 24,
   "metadata": {},
   "outputs": [
    {
     "name": "stdout",
     "output_type": "stream",
     "text": [
      "<class 'pandas.core.frame.DataFrame'>\n",
      "Int64Index: 16444 entries, 0 to 16714\n",
      "Data columns (total 12 columns):\n",
      "name            16444 non-null object\n",
      "platform        16444 non-null object\n",
      "release_year    16444 non-null float64\n",
      "genre           16444 non-null object\n",
      "na_sales        16444 non-null float64\n",
      "eu_sales        16444 non-null float64\n",
      "jp_sales        16444 non-null float64\n",
      "other_sales     16444 non-null float64\n",
      "critic_score    7983 non-null float64\n",
      "user_score      9839 non-null object\n",
      "rating          9768 non-null object\n",
      "all_sales       16444 non-null float64\n",
      "dtypes: float64(7), object(5)\n",
      "memory usage: 1.6+ MB\n"
     ]
    }
   ],
   "source": [
    "data.info()"
   ]
  },
  {
   "cell_type": "markdown",
   "metadata": {},
   "source": [
    "Пропуски датасета остались лишь в колонках с оценками критиков и пользователей, а также в колонке с возрастными ограничениями фильма (rating)."
   ]
  },
  {
   "cell_type": "markdown",
   "metadata": {},
   "source": [
    "Если мы будем заполнять пропуски, то мы сильно исказим датасет – в части общественной реакции на релиз он станет искусственным. Оставим NaN-ы на своих места и изучим данные подробнее, чтомы составить представление о возможных причинах пропусков."
   ]
  },
  {
   "cell_type": "code",
   "execution_count": 25,
   "metadata": {},
   "outputs": [
    {
     "name": "stdout",
     "output_type": "stream",
     "text": [
      "<class 'pandas.core.frame.DataFrame'>\n",
      "Int64Index: 9768 entries, 0 to 16706\n",
      "Data columns (total 12 columns):\n",
      "name            9768 non-null object\n",
      "platform        9768 non-null object\n",
      "release_year    9768 non-null float64\n",
      "genre           9768 non-null object\n",
      "na_sales        9768 non-null float64\n",
      "eu_sales        9768 non-null float64\n",
      "jp_sales        9768 non-null float64\n",
      "other_sales     9768 non-null float64\n",
      "critic_score    7902 non-null float64\n",
      "user_score      9706 non-null object\n",
      "rating          9768 non-null object\n",
      "all_sales       9768 non-null float64\n",
      "dtypes: float64(7), object(5)\n",
      "memory usage: 992.1+ KB\n"
     ]
    }
   ],
   "source": [
    "data.loc[data['rating'].notna()].info()"
   ]
  },
  {
   "cell_type": "code",
   "execution_count": 26,
   "metadata": {},
   "outputs": [
    {
     "data": {
      "text/plain": [
       "array(['E', nan, 'M', 'T', 'E10+', 'K-A', 'AO', 'EC', 'RP'], dtype=object)"
      ]
     },
     "execution_count": 26,
     "metadata": {},
     "output_type": "execute_result"
    }
   ],
   "source": [
    "data['rating'].unique()"
   ]
  },
  {
   "cell_type": "code",
   "execution_count": 27,
   "metadata": {},
   "outputs": [
    {
     "data": {
      "text/plain": [
       "array([1985., 1988., 1992., 1994., 1996., 1997., 1998., 1999., 2000.,\n",
       "       2001., 2002., 2003., 2004., 2005., 2006., 2007., 2008., 2009.,\n",
       "       2010., 2011., 2012., 2013., 2014., 2015., 2016.])"
      ]
     },
     "execution_count": 27,
     "metadata": {},
     "output_type": "execute_result"
    }
   ],
   "source": [
    "np.sort(data.loc[data['rating'].notna()]['release_year'].unique())"
   ]
  },
  {
   "cell_type": "markdown",
   "metadata": {},
   "source": [
    "Обратим внимание, что почти для всех игр с проставленным рейтингом проставлены и оценки критиков. Временной охват таких игр – широкий, с 1985 года по 2016. Создадим два датасета – с данными об играх, для которых не проставлен рейтинг (то есть нет базовой информации характеристики об игре, на какую аудиторию она рассчитана), и с данными об играх, для которых проставлен рейтинг. Необходимо понять, для каких игр проставлены рейтинги, а для каких нет; определить возможные причны. Это позволит нам решить, как поступить с пропусками в более чем 40% датасета."
   ]
  },
  {
   "cell_type": "code",
   "execution_count": 28,
   "metadata": {},
   "outputs": [],
   "source": [
    "games_reviewed = data.loc[data['rating'].notna()][['name', 'platform', 'release_year', 'genre', 'na_sales', 'eu_sales',\n",
    "       'jp_sales', 'other_sales','all_sales']]\n",
    "games_blank = data.loc[data['rating'].isna()][['name', 'platform', 'release_year', 'genre', 'na_sales', 'eu_sales',\n",
    "       'jp_sales', 'other_sales','all_sales']]"
   ]
  },
  {
   "cell_type": "code",
   "execution_count": 29,
   "metadata": {},
   "outputs": [
    {
     "name": "stdout",
     "output_type": "stream",
     "text": [
      "<class 'pandas.core.frame.DataFrame'>\n",
      "Int64Index: 9768 entries, 0 to 16706\n",
      "Data columns (total 9 columns):\n",
      "name            9768 non-null object\n",
      "platform        9768 non-null object\n",
      "release_year    9768 non-null float64\n",
      "genre           9768 non-null object\n",
      "na_sales        9768 non-null float64\n",
      "eu_sales        9768 non-null float64\n",
      "jp_sales        9768 non-null float64\n",
      "other_sales     9768 non-null float64\n",
      "all_sales       9768 non-null float64\n",
      "dtypes: float64(6), object(3)\n",
      "memory usage: 763.1+ KB\n"
     ]
    }
   ],
   "source": [
    "games_reviewed.info()"
   ]
  },
  {
   "cell_type": "code",
   "execution_count": 30,
   "metadata": {},
   "outputs": [
    {
     "name": "stdout",
     "output_type": "stream",
     "text": [
      "<class 'pandas.core.frame.DataFrame'>\n",
      "Int64Index: 6676 entries, 1 to 16714\n",
      "Data columns (total 9 columns):\n",
      "name            6676 non-null object\n",
      "platform        6676 non-null object\n",
      "release_year    6676 non-null float64\n",
      "genre           6676 non-null object\n",
      "na_sales        6676 non-null float64\n",
      "eu_sales        6676 non-null float64\n",
      "jp_sales        6676 non-null float64\n",
      "other_sales     6676 non-null float64\n",
      "all_sales       6676 non-null float64\n",
      "dtypes: float64(6), object(3)\n",
      "memory usage: 521.6+ KB\n"
     ]
    }
   ],
   "source": [
    "games_blank.info()"
   ]
  },
  {
   "cell_type": "code",
   "execution_count": 31,
   "metadata": {},
   "outputs": [
    {
     "data": {
      "text/plain": [
       "33.70053685172972"
      ]
     },
     "execution_count": 31,
     "metadata": {},
     "output_type": "execute_result"
    }
   ],
   "source": [
    "games_blank_var = np.var(games_blank['all_sales'], ddof=1)\n",
    "games_reviewed_var = np.var(games_reviewed['all_sales'], ddof=1)\n",
    "\n",
    "(games_reviewed_var-games_blank_var)/games_reviewed_var*100"
   ]
  },
  {
   "cell_type": "markdown",
   "metadata": {},
   "source": [
    "Выборки data_sales и data_scores различаются более, чем на 5%."
   ]
  },
  {
   "cell_type": "markdown",
   "metadata": {},
   "source": [
    "Нулевая гипотеза: выборки games_blank и games_reviewed одинаковы."
   ]
  },
  {
   "cell_type": "code",
   "execution_count": 32,
   "metadata": {},
   "outputs": [
    {
     "name": "stdout",
     "output_type": "stream",
     "text": [
      "p-значение: 1.1372852226215716e-15\n",
      "Отвергаем нулевую гипотезу\n"
     ]
    }
   ],
   "source": [
    "alpha = .05 # критический уровень статистической значимости\n",
    "            # если p-value окажется меньше него - отвергнем гипотезу\n",
    "\n",
    "results = st.ttest_ind(\n",
    "    games_blank['all_sales'], \n",
    "    games_reviewed['all_sales'],\n",
    "    equal_var=False)\n",
    "\n",
    "print('p-значение:', results.pvalue)\n",
    "\n",
    "if (results.pvalue < alpha):\n",
    "    print(\"Отвергаем нулевую гипотезу\")\n",
    "else:\n",
    "    print(\"Не получилось отвергнуть нулевую гипотезу\") "
   ]
  },
  {
   "cell_type": "markdown",
   "metadata": {},
   "source": [
    "Выборки games_blank и games_reviewed отличаются. Продолжаем искать причину этих различий."
   ]
  },
  {
   "cell_type": "code",
   "execution_count": 33,
   "metadata": {},
   "outputs": [
    {
     "name": "stdout",
     "output_type": "stream",
     "text": [
      "all_sales\n"
     ]
    },
    {
     "data": {
      "image/png": "[encoded data removed]",
      "text/plain": [
       "<Figure size 1080x288 with 1 Axes>"
      ]
     },
     "metadata": {
      "needs_background": "light"
     },
     "output_type": "display_data"
    },
    {
     "name": "stdout",
     "output_type": "stream",
     "text": [
      "na_sales\n"
     ]
    },
    {
     "data": {
      "image/png": "[encoded data removed]",
      "text/plain": [
       "<Figure size 1080x288 with 1 Axes>"
      ]
     },
     "metadata": {
      "needs_background": "light"
     },
     "output_type": "display_data"
    },
    {
     "name": "stdout",
     "output_type": "stream",
     "text": [
      "eu_sales\n"
     ]
    },
    {
     "data": {
      "image/png": "[encoded data removed]",
      "text/plain": [
       "<Figure size 1080x288 with 1 Axes>"
      ]
     },
     "metadata": {
      "needs_background": "light"
     },
     "output_type": "display_data"
    },
    {
     "name": "stdout",
     "output_type": "stream",
     "text": [
      "jp_sales\n"
     ]
    },
    {
     "data": {
      "image/png": "[encoded data removed]",
      "text/plain": [
       "<Figure size 1080x288 with 1 Axes>"
      ]
     },
     "metadata": {
      "needs_background": "light"
     },
     "output_type": "display_data"
    },
    {
     "name": "stdout",
     "output_type": "stream",
     "text": [
      "other_sales\n"
     ]
    },
    {
     "data": {
      "image/png": "[encoded data removed]",
      "text/plain": [
       "<Figure size 1080x288 with 1 Axes>"
      ]
     },
     "metadata": {
      "needs_background": "light"
     },
     "output_type": "display_data"
    }
   ],
   "source": [
    "for i in ['all_sales','na_sales', 'eu_sales',\n",
    "       'jp_sales', 'other_sales']:\n",
    "    print(i)\n",
    "    games_blank[i].hist(bins=100, figsize =(15,4), range=(0,1), grid=True, label='blank', color='blue', alpha=0.1)\n",
    "    games_reviewed[i].hist(bins=100, figsize=(15,4), range=(0,1), grid=True, label='reviewed', color='green', alpha=0.1)\n",
    "    plt.legend()\n",
    "    plt.xlabel('Миллионов проданных копий')\n",
    "    plt.ylabel('Количество случаев')\n",
    "    plt.show()"
   ]
  },
  {
   "cell_type": "markdown",
   "metadata": {},
   "source": [
    "Во всем мире, кроме Японии, игры из датасета reviewed популярнее игр из датасета blank."
   ]
  },
  {
   "cell_type": "code",
   "execution_count": 34,
   "metadata": {},
   "outputs": [
    {
     "data": {
      "text/plain": [
       "<matplotlib.axes._subplots.AxesSubplot at 0x108892b38>"
      ]
     },
     "execution_count": 34,
     "metadata": {},
     "output_type": "execute_result"
    },
    {
     "data": {
      "image/png": "[encoded data removed]",
      "text/plain": [
       "<Figure size 432x288 with 1 Axes>"
      ]
     },
     "metadata": {
      "needs_background": "light"
     },
     "output_type": "display_data"
    }
   ],
   "source": [
    "games_blank['all_sales'].hist(bins=60,range=(0,0.1))"
   ]
  },
  {
   "cell_type": "markdown",
   "metadata": {},
   "source": [
    "Игры, для которых не были проставлены отзывы:\n",
    "    - популярнее в Японии, чем игры для которых проставлены отзывы, но менее популярны в Северной Америке и Европе;\n",
    "    - имеют пик продаж на отметке 20 тысяч проданных копий. Игры, для которых были проставлены отзывы, тоже имеют пик на этой отметке, но он в несколько раз меньше;\n",
    "    - в мире в полтора раза менее успешные, чем игры для которых проставлены отзывы. А в Европе и Северной Америке – в два раза менее успешные."
   ]
  },
  {
   "cell_type": "markdown",
   "metadata": {},
   "source": [
    "Игры, для которых не проставлены отзывы, это скорее всего нишевые игры, популярные в Японии. Рассмотрим, жанры, платформы и год выпуска этих игр."
   ]
  },
  {
   "cell_type": "code",
   "execution_count": 35,
   "metadata": {},
   "outputs": [
    {
     "data": {
      "text/plain": [
       "PS     14.769323\n",
       "DS     12.971839\n",
       "PS2    10.050929\n",
       "PSP     9.841222\n",
       "PS3     5.557220\n",
       "N64     4.733373\n",
       "Wii     4.628520\n",
       "GBA     4.448772\n",
       "3DS     4.328939\n",
       "PSV     4.179149\n",
       "Name: platform, dtype: float64"
      ]
     },
     "execution_count": 35,
     "metadata": {},
     "output_type": "execute_result"
    }
   ],
   "source": [
    "games_blank['platform'].value_counts()[:10]/games_blank.shape[0]*100"
   ]
  },
  {
   "cell_type": "code",
   "execution_count": 36,
   "metadata": {},
   "outputs": [
    {
     "data": {
      "text/plain": [
       "PS2     14.905815\n",
       "DS      12.848075\n",
       "X360    10.544636\n",
       "Wii     10.002048\n",
       "PS3      9.572072\n",
       "PC       7.749795\n",
       "XB       7.309582\n",
       "PSP      5.487305\n",
       "GBA      5.262080\n",
       "GC       4.678542\n",
       "Name: platform, dtype: float64"
      ]
     },
     "execution_count": 36,
     "metadata": {},
     "output_type": "execute_result"
    }
   ],
   "source": [
    "games_reviewed['platform'].value_counts()[:10]/games_reviewed.shape[0]*100"
   ]
  },
  {
   "cell_type": "markdown",
   "metadata": {},
   "source": [
    "Игры из датасета games_blank выходят для более старых приставок. Самая представленная приставка – PS (15% случаев), в то время как игры из датасета games_reviewed выходят в первую очередь для PS2 (15%) и более старя версия приставки – PS – вообще не попала в топ-10 платформ датасета games_reviewed."
   ]
  },
  {
   "cell_type": "code",
   "execution_count": 37,
   "metadata": {},
   "outputs": [
    {
     "data": {
      "text/plain": [
       "Action          1161\n",
       "Misc             859\n",
       "Adventure        853\n",
       "Sports           828\n",
       "Role-Playing     711\n",
       "Fighting         405\n",
       "Racing           370\n",
       "Strategy         341\n",
       "Platform         317\n",
       "Shooter          300\n",
       "Name: genre, dtype: int64"
      ]
     },
     "execution_count": 37,
     "metadata": {},
     "output_type": "execute_result"
    }
   ],
   "source": [
    "games_blank['genre'].value_counts()[:10]"
   ]
  },
  {
   "cell_type": "code",
   "execution_count": 38,
   "metadata": {},
   "outputs": [
    {
     "data": {
      "text/plain": [
       "Action          2146\n",
       "Sports          1478\n",
       "Shooter          996\n",
       "Misc             862\n",
       "Racing           856\n",
       "Role-Playing     770\n",
       "Platform         561\n",
       "Simulation       559\n",
       "Adventure        440\n",
       "Fighting         432\n",
       "Name: genre, dtype: int64"
      ]
     },
     "execution_count": 38,
     "metadata": {},
     "output_type": "execute_result"
    }
   ],
   "source": [
    "games_reviewed['genre'].value_counts()[:10]"
   ]
  },
  {
   "cell_type": "markdown",
   "metadata": {},
   "source": [
    "Самый популярный жанр в обоих датасетах – action. Однако второй по популярности в датасетет games_blank – жанр Misc (среди игр с оценками занимает четвертое место). Жанр Misc или Miscellaneous games – это игры не вошедшие в предыдущие пять классов, проще говоря \"Другое\". Популярность этого жанра в датасете игр без оценок подкрепляет представление о том, что это скорее всего нишевые игры, с небольшой аудитории, популярные в Японии."
   ]
  },
  {
   "cell_type": "code",
   "execution_count": 39,
   "metadata": {},
   "outputs": [
    {
     "data": {
      "text/plain": [
       "2010.0    6.830437\n",
       "2008.0    6.680647\n",
       "2011.0    6.485920\n",
       "2009.0    6.216297\n",
       "2007.0    5.632115\n",
       "1998.0    5.197723\n",
       "2006.0    4.913122\n",
       "2012.0    4.463751\n",
       "1999.0    4.433793\n",
       "2015.0    4.358898\n",
       "1997.0    4.044338\n",
       "1996.0    3.834632\n",
       "2014.0    3.535051\n",
       "2005.0    3.490114\n",
       "2013.0    3.415219\n",
       "2016.0    3.325345\n",
       "1995.0    3.280407\n",
       "2000.0    3.025764\n",
       "2002.0    2.606351\n",
       "2004.0    2.456561\n",
       "2003.0    2.426603\n",
       "2001.0    2.142001\n",
       "1994.0    1.797484\n",
       "1993.0    0.898742\n",
       "1981.0    0.689035\n",
       "1991.0    0.614140\n",
       "1992.0    0.614140\n",
       "1982.0    0.539245\n",
       "1986.0    0.314560\n",
       "1989.0    0.254643\n",
       "1983.0    0.254643\n",
       "1987.0    0.239664\n",
       "1990.0    0.239664\n",
       "1988.0    0.209706\n",
       "1984.0    0.209706\n",
       "1985.0    0.194727\n",
       "1980.0    0.134811\n",
       "Name: release_year, dtype: float64"
      ]
     },
     "execution_count": 39,
     "metadata": {},
     "output_type": "execute_result"
    }
   ],
   "source": [
    "games_blank['release_year'].value_counts()/games_blank.shape[0]*100"
   ]
  },
  {
   "cell_type": "code",
   "execution_count": 40,
   "metadata": {},
   "outputs": [
    {
     "data": {
      "text/plain": [
       "2009.0    15.143799\n",
       "2008.0    14.694428\n",
       "2007.0    12.297783\n",
       "2010.0    11.968244\n",
       "2005.0    10.575195\n",
       "2011.0    10.530258\n",
       "2006.0    10.155782\n",
       "2002.0     9.811264\n",
       "2003.0     9.182145\n",
       "2004.0     8.957460\n",
       "2012.0     5.317555\n",
       "2014.0     5.167765\n",
       "2001.0     5.077891\n",
       "2013.0     4.733373\n",
       "2015.0     4.718394\n",
       "2016.0     4.194128\n",
       "2000.0     2.216896\n",
       "1999.0     0.629119\n",
       "1998.0     0.479329\n",
       "1997.0     0.284602\n",
       "1996.0     0.104853\n",
       "1992.0     0.029958\n",
       "1994.0     0.014979\n",
       "1988.0     0.014979\n",
       "1985.0     0.014979\n",
       "Name: release_year, dtype: float64"
      ]
     },
     "execution_count": 40,
     "metadata": {},
     "output_type": "execute_result"
    }
   ],
   "source": [
    "games_reviewed['release_year'].value_counts()/games_blank.shape[0]*100"
   ]
  },
  {
   "cell_type": "markdown",
   "metadata": {},
   "source": [
    "Около 90% игр из датасета games_blank были выпущены с 1994 по 2016 год, в то время как более 90% игр из датасета games_reviewed были выпущены начиная с 2000 года."
   ]
  },
  {
   "cell_type": "code",
   "execution_count": 41,
   "metadata": {},
   "outputs": [
    {
     "name": "stdout",
     "output_type": "stream",
     "text": [
      "<class 'pandas.core.frame.DataFrame'>\n",
      "Int64Index: 16444 entries, 0 to 16714\n",
      "Data columns (total 12 columns):\n",
      "name            16444 non-null object\n",
      "platform        16444 non-null object\n",
      "release_year    16444 non-null float64\n",
      "genre           16444 non-null object\n",
      "na_sales        16444 non-null float64\n",
      "eu_sales        16444 non-null float64\n",
      "jp_sales        16444 non-null float64\n",
      "other_sales     16444 non-null float64\n",
      "critic_score    7983 non-null float64\n",
      "user_score      9839 non-null object\n",
      "rating          9768 non-null object\n",
      "all_sales       16444 non-null float64\n",
      "dtypes: float64(7), object(5)\n",
      "memory usage: 1.6+ MB\n"
     ]
    }
   ],
   "source": [
    "data.info()"
   ]
  },
  {
   "cell_type": "markdown",
   "metadata": {},
   "source": [
    "В колонке user_score встречается значение tbd, то есть to be determined. Так обозначают ситуации, в которых пользователи оставили слишком мало отзывов, чтобы можно было оставить репрезентативную оценку. Данных нет, а значит заменяем такие значения на NaN."
   ]
  },
  {
   "cell_type": "code",
   "execution_count": 42,
   "metadata": {},
   "outputs": [],
   "source": [
    "data.loc[data['user_score'] == 'tbd','user_score'] = np.nan"
   ]
  },
  {
   "cell_type": "code",
   "execution_count": 43,
   "metadata": {},
   "outputs": [],
   "source": [
    "data['user_score'] = data['user_score'].astype('float64')"
   ]
  },
  {
   "cell_type": "code",
   "execution_count": 44,
   "metadata": {},
   "outputs": [
    {
     "name": "stdout",
     "output_type": "stream",
     "text": [
      "<class 'pandas.core.frame.DataFrame'>\n",
      "Int64Index: 16444 entries, 0 to 16714\n",
      "Data columns (total 12 columns):\n",
      "name            16444 non-null object\n",
      "platform        16444 non-null object\n",
      "release_year    16444 non-null float64\n",
      "genre           16444 non-null object\n",
      "na_sales        16444 non-null float64\n",
      "eu_sales        16444 non-null float64\n",
      "jp_sales        16444 non-null float64\n",
      "other_sales     16444 non-null float64\n",
      "critic_score    7983 non-null float64\n",
      "user_score      7463 non-null float64\n",
      "rating          9768 non-null object\n",
      "all_sales       16444 non-null float64\n",
      "dtypes: float64(8), object(4)\n",
      "memory usage: 1.6+ MB\n"
     ]
    }
   ],
   "source": [
    "data.info()"
   ]
  },
  {
   "cell_type": "markdown",
   "metadata": {},
   "source": [
    "Осталось заменить формат данных на целочисленный в колонке с годом релиза и датасет готов к анализу."
   ]
  },
  {
   "cell_type": "code",
   "execution_count": 45,
   "metadata": {},
   "outputs": [],
   "source": [
    "data['release_year'] = data['release_year'].astype('int64')"
   ]
  },
  {
   "cell_type": "code",
   "execution_count": 46,
   "metadata": {},
   "outputs": [
    {
     "name": "stdout",
     "output_type": "stream",
     "text": [
      "<class 'pandas.core.frame.DataFrame'>\n",
      "Int64Index: 16444 entries, 0 to 16714\n",
      "Data columns (total 12 columns):\n",
      "name            16444 non-null object\n",
      "platform        16444 non-null object\n",
      "release_year    16444 non-null int64\n",
      "genre           16444 non-null object\n",
      "na_sales        16444 non-null float64\n",
      "eu_sales        16444 non-null float64\n",
      "jp_sales        16444 non-null float64\n",
      "other_sales     16444 non-null float64\n",
      "critic_score    7983 non-null float64\n",
      "user_score      7463 non-null float64\n",
      "rating          9768 non-null object\n",
      "all_sales       16444 non-null float64\n",
      "dtypes: float64(7), int64(1), object(4)\n",
      "memory usage: 1.6+ MB\n"
     ]
    }
   ],
   "source": [
    "data.info()"
   ]
  },
  {
   "cell_type": "markdown",
   "metadata": {},
   "source": [
    "# Часть 3. Анализ\n",
    "<a id='4-bullet'></a>\n",
    "## 3.1 Выбираем актуальную информацию и ищем лидеров"
   ]
  },
  {
   "cell_type": "code",
   "execution_count": 47,
   "metadata": {},
   "outputs": [
    {
     "data": {
      "image/png": "[encoded data removed]",
      "text/plain": [
       "<Figure size 1080x360 with 1 Axes>"
      ]
     },
     "metadata": {
      "needs_background": "light"
     },
     "output_type": "display_data"
    }
   ],
   "source": [
    "data.groupby('release_year')['name'].count().plot(figsize=(15,5))\n",
    "\n",
    "plt.title('Релизы компьютерных игр')\n",
    "plt.xlabel('годы')\n",
    "plt.ylabel('релизы')\n",
    "plt.show()"
   ]
  },
  {
   "cell_type": "code",
   "execution_count": 48,
   "metadata": {},
   "outputs": [],
   "source": [
    "top_5_platforms = data['platform'].value_counts()[:5].index"
   ]
  },
  {
   "cell_type": "code",
   "execution_count": 49,
   "metadata": {},
   "outputs": [
    {
     "data": {
      "image/png": "[encoded data removed]",
      "text/plain": [
       "<Figure size 1080x360 with 1 Axes>"
      ]
     },
     "metadata": {
      "needs_background": "light"
     },
     "output_type": "display_data"
    }
   ],
   "source": [
    "for i in top_5_platforms:\n",
    "    data.query('platform == @i').groupby('release_year')['name'].count().plot(figsize=(15,5), legend=True, label=i)\n",
    "plt.title('Релизы на самых популярных платформах')\n",
    "plt.xlabel('годы')\n",
    "plt.ylabel('релизы')\n",
    "plt.show()"
   ]
  },
  {
   "cell_type": "markdown",
   "metadata": {},
   "source": [
    "На графике видны 4 лидера: старейшая платформа DS от Nintendo, инновационная Wii, тоже от Nintendo, PS3 от PlayStation и  X360 от Xbox. X360 и PS3 идут нога в ногу начиная с середины 2000х. Обогнав конкурентов в начале 2010-х они начали терять и вместе с конкурентами к 2016 году достигли самых низких отметок, сопоставимых с теми, с которых они стартовали."
   ]
  },
  {
   "cell_type": "code",
   "execution_count": 50,
   "metadata": {},
   "outputs": [
    {
     "data": {
      "image/png": "[encoded data removed]",
      "text/plain": [
       "<Figure size 1080x360 with 1 Axes>"
      ]
     },
     "metadata": {
      "needs_background": "light"
     },
     "output_type": "display_data"
    }
   ],
   "source": [
    "for i in top_5_platforms:\n",
    "    data.query('platform == @i').groupby('release_year')['all_sales'].sum().plot(figsize=(15,5), legend=True, label=i)\n",
    "plt.title('Продажи на самых популярных платформах')\n",
    "plt.xlabel('годы')\n",
    "plt.ylabel('купленные копии в миллионах')\n",
    "plt.show()"
   ]
  },
  {
   "cell_type": "markdown",
   "metadata": {},
   "source": [
    "Выше мы построили график продаж на платформах из top-5 по количеству релизов. Заметно, что закат в количестве релизов соответсвтует закату в продажах. Таким образом, наиболее благоприятные с точки зрения продаж – платформы существующие от 1,5 до 8 лет."
   ]
  },
  {
   "cell_type": "code",
   "execution_count": 51,
   "metadata": {},
   "outputs": [
    {
     "data": {
      "image/png": "[encoded data removed]",
      "text/plain": [
       "<Figure size 1080x360 with 1 Axes>"
      ]
     },
     "metadata": {
      "needs_background": "light"
     },
     "output_type": "display_data"
    }
   ],
   "source": [
    "for i in data['platform'].value_counts().index:\n",
    "    data.query('platform == @i').groupby('release_year')['name'].count().plot(figsize=(15,5), legend=True, label=i)\n",
    "plt.xlim(left=1998, right=2016)\n",
    "plt.title('Релизы на всех платформах')\n",
    "plt.xlabel('годы')\n",
    "plt.ylabel('релизы')\n",
    "plt.show()"
   ]
  },
  {
   "cell_type": "markdown",
   "metadata": {},
   "source": [
    "График для каждой из платформ имеет силует горы: стартуют, набируют релизы, достигают пика, теряют релизы, исчезают. Типичный период жизни платформы – игровой приставки – от 8 до 12 лет. Существует также самая долгоиграющая платформа – PC (то есть персональный компьютер)."
   ]
  },
  {
   "cell_type": "code",
   "execution_count": 52,
   "metadata": {},
   "outputs": [
    {
     "data": {
      "image/png": "[encoded data removed]",
      "text/plain": [
       "<Figure size 1080x360 with 1 Axes>"
      ]
     },
     "metadata": {
      "needs_background": "light"
     },
     "output_type": "display_data"
    }
   ],
   "source": [
    "for i in data['platform'].value_counts().index:\n",
    "    data.query('platform == @i').groupby('release_year')['name'].count().plot(figsize=(15,5), legend=True, label=i)\n",
    "plt.xlim(left=2011, right=2016)\n",
    "plt.title('Релизы на всех платформах')\n",
    "plt.xlabel('годы')\n",
    "plt.ylabel('релизы')\n",
    "plt.show()"
   ]
  },
  {
   "cell_type": "code",
   "execution_count": 53,
   "metadata": {},
   "outputs": [],
   "source": [
    "prev_years = range(2011,2017)\n",
    "top_active = data.query('release_year in @prev_years').groupby('platform')['release_year'].count().index"
   ]
  },
  {
   "cell_type": "code",
   "execution_count": 54,
   "metadata": {},
   "outputs": [
    {
     "data": {
      "text/plain": [
       "Index(['3DS', 'DS', 'PC', 'PS2', 'PS3', 'PS4', 'PSP', 'PSV', 'Wii', 'WiiU',\n",
       "       'X360', 'XOne'],\n",
       "      dtype='object', name='platform')"
      ]
     },
     "execution_count": 54,
     "metadata": {},
     "output_type": "execute_result"
    }
   ],
   "source": [
    "top_active"
   ]
  },
  {
   "cell_type": "code",
   "execution_count": 55,
   "metadata": {},
   "outputs": [
    {
     "data": {
      "image/png": "[encoded data removed]",
      "text/plain": [
       "<Figure size 1080x360 with 1 Axes>"
      ]
     },
     "metadata": {
      "needs_background": "light"
     },
     "output_type": "display_data"
    }
   ],
   "source": [
    "for i in top_active:\n",
    "    data.query('platform == @i').groupby('release_year')['name'].count().plot(figsize=(15,5), legend=True, label=i)\n",
    "plt.xlim(left=2011, right=2016)\n",
    "plt.title('Релизы на всех платформах')\n",
    "plt.xlabel('годы')\n",
    "plt.ylabel('релизы')\n",
    "plt.show()"
   ]
  },
  {
   "cell_type": "code",
   "execution_count": 56,
   "metadata": {},
   "outputs": [],
   "source": [
    "top_growing = data.query('release_year > 2013 and platform in [\"PS4\",\"XOne\",\"PC\",\"WiiU\"]').groupby('platform')['release_year'].count().index"
   ]
  },
  {
   "cell_type": "code",
   "execution_count": 57,
   "metadata": {},
   "outputs": [
    {
     "data": {
      "image/png": "[encoded data removed]",
      "text/plain": [
       "<Figure size 1080x360 with 1 Axes>"
      ]
     },
     "metadata": {
      "needs_background": "light"
     },
     "output_type": "display_data"
    }
   ],
   "source": [
    "for i in top_growing:\n",
    "    data.query('platform == @i').groupby('release_year')['name'].count().plot(figsize=(15,5), legend=True, label=i)\n",
    "plt.xlim(left=2013, right=2016)\n",
    "plt.title('Релизы на всех платформах')\n",
    "plt.xlabel('годы')\n",
    "plt.ylabel('релизы')\n",
    "plt.show()"
   ]
  },
  {
   "cell_type": "markdown",
   "metadata": {},
   "source": [
    "На графике заметны несколько растущих платформ: PS4, XOne, WiiU, они начали свой путь в 2012-2013 годах. Учитывая, жизненный цикл их предшественников, пик платформы как правило начинается через 3-6 лет после старта, столько же времени будет занимать угасание платформы. Что касается 2016 года, платформы (игровые приставки) PS4, DS, WiiU – на взлете, они самые перспективные и актуальные платформы из всех остальных. Если очерчивать группу платформ, представляющих интерес для анализа, необходимо добавить к этой тройке еще одну платформу (нестареющую классику) – PC (персональный компьютер)."
   ]
  },
  {
   "cell_type": "markdown",
   "metadata": {},
   "source": [
    "### Промежуточный итог:\n",
    "- актуальный период для нашего анализа – 2011-2016 гг. В этот этот период попадают хвосты жизненного цикла нескольких прежде популярных платформ (DS, Wii, PS3, X360), а также входят \"хвосты\" новых растущих платформ (PS4 и XOne). Данные о работе платформ в этот период помогут построить прогноз на 2017 год;\n",
    "- данные до 2011 года не представляют интереса для исследования;\n",
    "- среди платформ можно выделить всего 2 перспектиные компании, на 2016 год находили в фазе активного роста: PS4 и XOne;\n",
    "- среди новых платформ есть также WiiU, но в отличие от PS4 и Xone c 2012 года она наблюдает падение релизов."
   ]
  },
  {
   "cell_type": "code",
   "execution_count": 58,
   "metadata": {},
   "outputs": [],
   "source": [
    "data = data.query('release_year >= 2011')"
   ]
  },
  {
   "cell_type": "code",
   "execution_count": 59,
   "metadata": {},
   "outputs": [
    {
     "data": {
      "text/plain": [
       "4022"
      ]
     },
     "execution_count": 59,
     "metadata": {},
     "output_type": "execute_result"
    }
   ],
   "source": [
    "data.shape[0]"
   ]
  },
  {
   "cell_type": "code",
   "execution_count": 60,
   "metadata": {},
   "outputs": [
    {
     "data": {
      "text/plain": [
       "Text(0,0.5,'Продажи в млн руб')"
      ]
     },
     "execution_count": 60,
     "metadata": {},
     "output_type": "execute_result"
    },
    {
     "data": {
      "image/png": "[encoded data removed]",
      "text/plain": [
       "<Figure size 1152x432 with 1 Axes>"
      ]
     },
     "metadata": {
      "needs_background": "light"
     },
     "output_type": "display_data"
    }
   ],
   "source": [
    "data.boxplot(by='platform', column='all_sales', figsize=(16,6))\n",
    "plt.yscale('log')\n",
    "plt.ylabel('Продажи в млн руб')"
   ]
  },
  {
   "cell_type": "markdown",
   "metadata": {},
   "source": [
    "Боксплоты выглядят одинаково для растущих платформ PS4 и XOne: половина игр там продается от 100 тысяч до 1 млн копий. Их предшественники X360 и PS3 находятся в сопоставимом сегменте средних продаж. Низкие продажи в PS2, DS и Wii – прежних лидеров – объясняются тем, что в актуальный период вошли только их закатные данные.\n",
    "\n",
    "Самы хитовые игры – у приставок 3DS, PS3, PS4, Wii и X360, аутлайеры этих платформ выходят за границы 10 миллионов продаж."
   ]
  },
  {
   "cell_type": "code",
   "execution_count": 61,
   "metadata": {},
   "outputs": [
    {
     "data": {
      "text/html": [
       "<div>\n",
       "<style scoped>\n",
       "    .dataframe tbody tr th:only-of-type {\n",
       "        vertical-align: middle;\n",
       "    }\n",
       "\n",
       "    .dataframe tbody tr th {\n",
       "        vertical-align: top;\n",
       "    }\n",
       "\n",
       "    .dataframe thead th {\n",
       "        text-align: right;\n",
       "    }\n",
       "</style>\n",
       "<table border=\"1\" class=\"dataframe\">\n",
       "  <thead>\n",
       "    <tr style=\"text-align: right;\">\n",
       "      <th></th>\n",
       "      <th>name</th>\n",
       "      <th>platform</th>\n",
       "      <th>release_year</th>\n",
       "      <th>genre</th>\n",
       "      <th>na_sales</th>\n",
       "      <th>eu_sales</th>\n",
       "      <th>jp_sales</th>\n",
       "      <th>other_sales</th>\n",
       "      <th>critic_score</th>\n",
       "      <th>user_score</th>\n",
       "      <th>rating</th>\n",
       "      <th>all_sales</th>\n",
       "    </tr>\n",
       "  </thead>\n",
       "  <tbody>\n",
       "    <tr>\n",
       "      <th>16</th>\n",
       "      <td>Grand Theft Auto V</td>\n",
       "      <td>PS3</td>\n",
       "      <td>2013</td>\n",
       "      <td>Action</td>\n",
       "      <td>7.02</td>\n",
       "      <td>9.09</td>\n",
       "      <td>0.98</td>\n",
       "      <td>3.96</td>\n",
       "      <td>97.0</td>\n",
       "      <td>8.2</td>\n",
       "      <td>M</td>\n",
       "      <td>21.05</td>\n",
       "    </tr>\n",
       "    <tr>\n",
       "      <th>23</th>\n",
       "      <td>Grand Theft Auto V</td>\n",
       "      <td>X360</td>\n",
       "      <td>2013</td>\n",
       "      <td>Action</td>\n",
       "      <td>9.66</td>\n",
       "      <td>5.14</td>\n",
       "      <td>0.06</td>\n",
       "      <td>1.41</td>\n",
       "      <td>97.0</td>\n",
       "      <td>8.1</td>\n",
       "      <td>M</td>\n",
       "      <td>16.27</td>\n",
       "    </tr>\n",
       "    <tr>\n",
       "      <th>29</th>\n",
       "      <td>Call of Duty: Modern Warfare 3</td>\n",
       "      <td>X360</td>\n",
       "      <td>2011</td>\n",
       "      <td>Shooter</td>\n",
       "      <td>9.04</td>\n",
       "      <td>4.24</td>\n",
       "      <td>0.13</td>\n",
       "      <td>1.32</td>\n",
       "      <td>88.0</td>\n",
       "      <td>3.4</td>\n",
       "      <td>M</td>\n",
       "      <td>14.73</td>\n",
       "    </tr>\n",
       "    <tr>\n",
       "      <th>31</th>\n",
       "      <td>Call of Duty: Black Ops 3</td>\n",
       "      <td>PS4</td>\n",
       "      <td>2015</td>\n",
       "      <td>Shooter</td>\n",
       "      <td>6.03</td>\n",
       "      <td>5.86</td>\n",
       "      <td>0.36</td>\n",
       "      <td>2.38</td>\n",
       "      <td>NaN</td>\n",
       "      <td>NaN</td>\n",
       "      <td>NaN</td>\n",
       "      <td>14.63</td>\n",
       "    </tr>\n",
       "    <tr>\n",
       "      <th>33</th>\n",
       "      <td>Pokemon X/Pokemon Y</td>\n",
       "      <td>3DS</td>\n",
       "      <td>2013</td>\n",
       "      <td>Role-Playing</td>\n",
       "      <td>5.28</td>\n",
       "      <td>4.19</td>\n",
       "      <td>4.35</td>\n",
       "      <td>0.78</td>\n",
       "      <td>NaN</td>\n",
       "      <td>NaN</td>\n",
       "      <td>NaN</td>\n",
       "      <td>14.60</td>\n",
       "    </tr>\n",
       "    <tr>\n",
       "      <th>34</th>\n",
       "      <td>Call of Duty: Black Ops II</td>\n",
       "      <td>PS3</td>\n",
       "      <td>2012</td>\n",
       "      <td>Shooter</td>\n",
       "      <td>4.99</td>\n",
       "      <td>5.73</td>\n",
       "      <td>0.65</td>\n",
       "      <td>2.42</td>\n",
       "      <td>83.0</td>\n",
       "      <td>5.3</td>\n",
       "      <td>M</td>\n",
       "      <td>13.79</td>\n",
       "    </tr>\n",
       "    <tr>\n",
       "      <th>35</th>\n",
       "      <td>Call of Duty: Black Ops II</td>\n",
       "      <td>X360</td>\n",
       "      <td>2012</td>\n",
       "      <td>Shooter</td>\n",
       "      <td>8.25</td>\n",
       "      <td>4.24</td>\n",
       "      <td>0.07</td>\n",
       "      <td>1.12</td>\n",
       "      <td>83.0</td>\n",
       "      <td>4.8</td>\n",
       "      <td>M</td>\n",
       "      <td>13.68</td>\n",
       "    </tr>\n",
       "    <tr>\n",
       "      <th>37</th>\n",
       "      <td>Call of Duty: Modern Warfare 3</td>\n",
       "      <td>PS3</td>\n",
       "      <td>2011</td>\n",
       "      <td>Shooter</td>\n",
       "      <td>5.54</td>\n",
       "      <td>5.73</td>\n",
       "      <td>0.49</td>\n",
       "      <td>1.57</td>\n",
       "      <td>88.0</td>\n",
       "      <td>3.2</td>\n",
       "      <td>M</td>\n",
       "      <td>13.33</td>\n",
       "    </tr>\n",
       "    <tr>\n",
       "      <th>40</th>\n",
       "      <td>Mario Kart 7</td>\n",
       "      <td>3DS</td>\n",
       "      <td>2011</td>\n",
       "      <td>Racing</td>\n",
       "      <td>5.03</td>\n",
       "      <td>4.02</td>\n",
       "      <td>2.69</td>\n",
       "      <td>0.91</td>\n",
       "      <td>85.0</td>\n",
       "      <td>8.2</td>\n",
       "      <td>E</td>\n",
       "      <td>12.65</td>\n",
       "    </tr>\n",
       "    <tr>\n",
       "      <th>42</th>\n",
       "      <td>Grand Theft Auto V</td>\n",
       "      <td>PS4</td>\n",
       "      <td>2014</td>\n",
       "      <td>Action</td>\n",
       "      <td>3.96</td>\n",
       "      <td>6.31</td>\n",
       "      <td>0.38</td>\n",
       "      <td>1.97</td>\n",
       "      <td>97.0</td>\n",
       "      <td>8.3</td>\n",
       "      <td>M</td>\n",
       "      <td>12.62</td>\n",
       "    </tr>\n",
       "    <tr>\n",
       "      <th>47</th>\n",
       "      <td>Pokemon Omega Ruby/Pokemon Alpha Sapphire</td>\n",
       "      <td>3DS</td>\n",
       "      <td>2014</td>\n",
       "      <td>Role-Playing</td>\n",
       "      <td>4.35</td>\n",
       "      <td>3.49</td>\n",
       "      <td>3.10</td>\n",
       "      <td>0.74</td>\n",
       "      <td>NaN</td>\n",
       "      <td>NaN</td>\n",
       "      <td>NaN</td>\n",
       "      <td>11.68</td>\n",
       "    </tr>\n",
       "    <tr>\n",
       "      <th>53</th>\n",
       "      <td>Super Mario 3D Land</td>\n",
       "      <td>3DS</td>\n",
       "      <td>2011</td>\n",
       "      <td>Platform</td>\n",
       "      <td>4.89</td>\n",
       "      <td>3.00</td>\n",
       "      <td>2.14</td>\n",
       "      <td>0.78</td>\n",
       "      <td>90.0</td>\n",
       "      <td>8.4</td>\n",
       "      <td>E</td>\n",
       "      <td>10.81</td>\n",
       "    </tr>\n",
       "    <tr>\n",
       "      <th>60</th>\n",
       "      <td>Call of Duty: Ghosts</td>\n",
       "      <td>X360</td>\n",
       "      <td>2013</td>\n",
       "      <td>Shooter</td>\n",
       "      <td>6.73</td>\n",
       "      <td>2.56</td>\n",
       "      <td>0.04</td>\n",
       "      <td>0.91</td>\n",
       "      <td>73.0</td>\n",
       "      <td>2.6</td>\n",
       "      <td>M</td>\n",
       "      <td>10.24</td>\n",
       "    </tr>\n",
       "    <tr>\n",
       "      <th>61</th>\n",
       "      <td>Just Dance 3</td>\n",
       "      <td>Wii</td>\n",
       "      <td>2011</td>\n",
       "      <td>Misc</td>\n",
       "      <td>5.95</td>\n",
       "      <td>3.11</td>\n",
       "      <td>0.00</td>\n",
       "      <td>1.06</td>\n",
       "      <td>74.0</td>\n",
       "      <td>7.8</td>\n",
       "      <td>E10+</td>\n",
       "      <td>10.12</td>\n",
       "    </tr>\n",
       "  </tbody>\n",
       "</table>\n",
       "</div>"
      ],
      "text/plain": [
       "                                         name platform  release_year  \\\n",
       "16                         Grand Theft Auto V      PS3          2013   \n",
       "23                         Grand Theft Auto V     X360          2013   \n",
       "29             Call of Duty: Modern Warfare 3     X360          2011   \n",
       "31                  Call of Duty: Black Ops 3      PS4          2015   \n",
       "33                        Pokemon X/Pokemon Y      3DS          2013   \n",
       "34                 Call of Duty: Black Ops II      PS3          2012   \n",
       "35                 Call of Duty: Black Ops II     X360          2012   \n",
       "37             Call of Duty: Modern Warfare 3      PS3          2011   \n",
       "40                               Mario Kart 7      3DS          2011   \n",
       "42                         Grand Theft Auto V      PS4          2014   \n",
       "47  Pokemon Omega Ruby/Pokemon Alpha Sapphire      3DS          2014   \n",
       "53                        Super Mario 3D Land      3DS          2011   \n",
       "60                       Call of Duty: Ghosts     X360          2013   \n",
       "61                               Just Dance 3      Wii          2011   \n",
       "\n",
       "           genre  na_sales  eu_sales  jp_sales  other_sales  critic_score  \\\n",
       "16        Action      7.02      9.09      0.98         3.96          97.0   \n",
       "23        Action      9.66      5.14      0.06         1.41          97.0   \n",
       "29       Shooter      9.04      4.24      0.13         1.32          88.0   \n",
       "31       Shooter      6.03      5.86      0.36         2.38           NaN   \n",
       "33  Role-Playing      5.28      4.19      4.35         0.78           NaN   \n",
       "34       Shooter      4.99      5.73      0.65         2.42          83.0   \n",
       "35       Shooter      8.25      4.24      0.07         1.12          83.0   \n",
       "37       Shooter      5.54      5.73      0.49         1.57          88.0   \n",
       "40        Racing      5.03      4.02      2.69         0.91          85.0   \n",
       "42        Action      3.96      6.31      0.38         1.97          97.0   \n",
       "47  Role-Playing      4.35      3.49      3.10         0.74           NaN   \n",
       "53      Platform      4.89      3.00      2.14         0.78          90.0   \n",
       "60       Shooter      6.73      2.56      0.04         0.91          73.0   \n",
       "61          Misc      5.95      3.11      0.00         1.06          74.0   \n",
       "\n",
       "    user_score rating  all_sales  \n",
       "16         8.2      M      21.05  \n",
       "23         8.1      M      16.27  \n",
       "29         3.4      M      14.73  \n",
       "31         NaN    NaN      14.63  \n",
       "33         NaN    NaN      14.60  \n",
       "34         5.3      M      13.79  \n",
       "35         4.8      M      13.68  \n",
       "37         3.2      M      13.33  \n",
       "40         8.2      E      12.65  \n",
       "42         8.3      M      12.62  \n",
       "47         NaN    NaN      11.68  \n",
       "53         8.4      E      10.81  \n",
       "60         2.6      M      10.24  \n",
       "61         7.8   E10+      10.12  "
      ]
     },
     "execution_count": 61,
     "metadata": {},
     "output_type": "execute_result"
    }
   ],
   "source": [
    "data.query('platform in [\"Wii\", \"3DS\", \"PS3\", \"PS4\", \"X360\"] and all_sales > 10')"
   ]
  },
  {
   "cell_type": "markdown",
   "metadata": {},
   "source": [
    "Самая хитовая игра в выбранном нами актуальном периоде – Grand Theft Auto V. Больше продаж она собрала на PS3, чем на X360."
   ]
  },
  {
   "cell_type": "markdown",
   "metadata": {},
   "source": [
    "Рассмотрим детальнее плафторму PS3."
   ]
  },
  {
   "cell_type": "code",
   "execution_count": 62,
   "metadata": {},
   "outputs": [
    {
     "data": {
      "image/png": "[encoded data removed]",
      "text/plain": [
       "<Figure size 1152x432 with 2 Axes>"
      ]
     },
     "metadata": {
      "needs_background": "light"
     },
     "output_type": "display_data"
    }
   ],
   "source": [
    "wii = data.query('platform == \"PS3\"')\n",
    "fig, ax = plt.subplots(figsize=(16, 6), ncols=2)\n",
    "\n",
    "for icolumn, column in enumerate(['critic_score', 'user_score']):\n",
    "    corr_p = wii[column].corr(wii['all_sales'])\n",
    "    ax[icolumn].scatter(wii[column], wii['all_sales'], s=1)\n",
    "    ax[icolumn].set_title('Платформа PS3. \\n Влияние отзывов на продажи. Коэффициент корр. Пирсона: {:.2}'.format(corr_p))\n",
    "    ax[icolumn].set_xlabel(column)\n",
    "    ax[icolumn].set_ylabel('Продажи в млн копий')\n",
    "    ax[icolumn].set_yscale('log')"
   ]
  },
  {
   "cell_type": "markdown",
   "metadata": {},
   "source": [
    "Облака на скаттерплотах вытянуты диагонально. Есть некоторая связь между тем насколько высоко критики игры PS3 и тем, как часто их покупали (коэффициент Пирсона 0.38). Почти не имеет эффекта на продажи оценки обычных пользователей – коэффициент Пирсона почти равен нулю: 0.014. Рассмотрим, повторяется ли эта ситуации с играми на платформах в целом."
   ]
  },
  {
   "cell_type": "code",
   "execution_count": 63,
   "metadata": {},
   "outputs": [
    {
     "data": {
      "image/png": "[encoded data removed]",
      "text/plain": [
       "<Figure size 1152x432 with 2 Axes>"
      ]
     },
     "metadata": {
      "needs_background": "light"
     },
     "output_type": "display_data"
    }
   ],
   "source": [
    "fig, ax = plt.subplots(figsize=(16, 6), ncols=2)\n",
    "\n",
    "for icolumn, column in enumerate(['critic_score', 'user_score']):\n",
    "    corr_p = data[column].corr(data['all_sales'])\n",
    "    ax[icolumn].scatter(data[column], data['all_sales'], s=1)\n",
    "    ax[icolumn].set_title('Влияние отзывов на продажи. Коэффициент корр. Пирсона: {:.2}'.format(corr_p))\n",
    "    ax[icolumn].set_xlabel(column)\n",
    "    ax[icolumn].set_ylabel('Продажи в млн копий')\n",
    "    ax[icolumn].set_yscale('log')"
   ]
  },
  {
   "cell_type": "markdown",
   "metadata": {},
   "source": [
    "Облака на скаттерплотах вытянуты диагонально, ситуация повторяется – оценки критиков не сильно, но влияют на продажи, а оценки пользователей – нет. Коэффициент Пирсона это подтверждает: 0.33 (отзывы критиков) и 0.032 (отзывы пользователей). Рассмотрим, повторяется ли эта ситуации в случае с PC, нестареющей классикой."
   ]
  },
  {
   "cell_type": "code",
   "execution_count": 64,
   "metadata": {},
   "outputs": [
    {
     "data": {
      "image/png": "[encoded data removed]",
      "text/plain": [
       "<Figure size 1152x432 with 2 Axes>"
      ]
     },
     "metadata": {
      "needs_background": "light"
     },
     "output_type": "display_data"
    }
   ],
   "source": [
    "pc = data.query('platform == \"PC\"')\n",
    "fig, ax = plt.subplots(figsize=(16, 6), ncols=2)\n",
    "\n",
    "for icolumn, column in enumerate(['critic_score', 'user_score']):\n",
    "    corr_p = pc[column].corr(pc['all_sales'])\n",
    "    ax[icolumn].scatter(pc[column], pc['all_sales'], s=1)\n",
    "    ax[icolumn].set_title('PC.\\nВлияние отзывов на продажи. Коэффициент корр. Пирсона: {:.2}'.format(corr_p))\n",
    "    ax[icolumn].set_xlabel(column)\n",
    "    ax[icolumn].set_ylabel('Продажи в млн копий')\n",
    "    ax[icolumn].set_yscale('log')"
   ]
  },
  {
   "cell_type": "markdown",
   "metadata": {},
   "source": [
    "Для PC ситуация повторяется."
   ]
  },
  {
   "cell_type": "markdown",
   "metadata": {},
   "source": [
    "### Промежуточный итог:\n",
    "- отзывы критиков имет некоторое влияние на продажи игры;\n",
    "- отзывы пользователей не имеют влияния на продажи игры."
   ]
  },
  {
   "cell_type": "code",
   "execution_count": 65,
   "metadata": {},
   "outputs": [
    {
     "data": {
      "text/plain": [
       "Text(0,0.5,'Продажи в млн руб')"
      ]
     },
     "execution_count": 65,
     "metadata": {},
     "output_type": "execute_result"
    },
    {
     "data": {
      "image/png": "[encoded data removed]",
      "text/plain": [
       "<Figure size 1152x432 with 1 Axes>"
      ]
     },
     "metadata": {
      "needs_background": "light"
     },
     "output_type": "display_data"
    }
   ],
   "source": [
    "data.boxplot(by='genre', column='all_sales', figsize=(16,6))\n",
    "plt.yscale('log')\n",
    "plt.ylabel('Продажи в млн руб')"
   ]
  },
  {
   "cell_type": "markdown",
   "metadata": {},
   "source": [
    "Самые прибыльные жанры – шутеры, спортивные игры и файтинги. Аутлаеры, игры которые продались более 10 миллионов раз, есть в этих и дргуих жанрах: экшн, \"другое\", платформеры, паззлы, гонки и симуляции. Отчетливо видны жанры с низкими продажами: приключения, паззлы и стратегии."
   ]
  },
  {
   "cell_type": "markdown",
   "metadata": {},
   "source": [
    "### Промежуточный итог:\n",
    "- самые прибыльные жанры: шутеры, спортивные игры и файтинги;\n",
    "- самые низкие продажи в жанрах: приключения, паззл и стратегии."
   ]
  },
  {
   "cell_type": "markdown",
   "metadata": {},
   "source": [
    "<a id='5-bullet'></a>\n",
    "## 3.2 Портреты пользователей: Европа, Северная Америка, Япония"
   ]
  },
  {
   "cell_type": "markdown",
   "metadata": {},
   "source": [
    "### Жанры"
   ]
  },
  {
   "cell_type": "code",
   "execution_count": 66,
   "metadata": {},
   "outputs": [
    {
     "data": {
      "text/plain": [
       "genre\n",
       "Shooter         0.449909\n",
       "Platform        0.246475\n",
       "Sports          0.227455\n",
       "Racing          0.225444\n",
       "Action          0.156911\n",
       "Simulation      0.145000\n",
       "Role-Playing    0.133978\n",
       "Misc            0.105920\n",
       "Fighting        0.102138\n",
       "Strategy        0.068547\n",
       "Puzzle          0.050141\n",
       "Adventure       0.034049\n",
       "Name: eu_sales, dtype: float64"
      ]
     },
     "execution_count": 66,
     "metadata": {},
     "output_type": "execute_result"
    }
   ],
   "source": [
    "data.groupby('genre')['eu_sales'].mean().sort_values(ascending=False)"
   ]
  },
  {
   "cell_type": "markdown",
   "metadata": {},
   "source": [
    "Самый популярный жанр игр в Европе – шутеры (450 тысяч скачиваний). Следующие по популярности – платформеры, спортивные игры и гонки. В среднем игры такого жанра продаются от 200 до 250 тысяч раз."
   ]
  },
  {
   "cell_type": "code",
   "execution_count": 67,
   "metadata": {},
   "outputs": [
    {
     "data": {
      "text/plain": [
       "genre\n",
       "Shooter         0.590973\n",
       "Platform        0.313770\n",
       "Sports          0.279434\n",
       "Fighting        0.198931\n",
       "Misc            0.185840\n",
       "Action          0.181970\n",
       "Role-Playing    0.180172\n",
       "Racing          0.177667\n",
       "Simulation      0.113015\n",
       "Strategy        0.063932\n",
       "Puzzle          0.038592\n",
       "Adventure       0.036000\n",
       "Name: na_sales, dtype: float64"
      ]
     },
     "execution_count": 67,
     "metadata": {},
     "output_type": "execute_result"
    }
   ],
   "source": [
    "data.groupby('genre')['na_sales'].mean().sort_values(ascending=False)"
   ]
  },
  {
   "cell_type": "markdown",
   "metadata": {},
   "source": [
    "Самый популярные игры в Северной Америке – шутеры (в среднем 600 тысяч продаж на игру), около 300 тысяч продаж приходится на спортивные игры и платформеры."
   ]
  },
  {
   "cell_type": "code",
   "execution_count": 68,
   "metadata": {},
   "outputs": [
    {
     "data": {
      "text/plain": [
       "genre\n",
       "Role-Playing    0.171763\n",
       "Platform        0.099426\n",
       "Simulation      0.085588\n",
       "Fighting        0.077862\n",
       "Action          0.050134\n",
       "Misc            0.046933\n",
       "Puzzle          0.040986\n",
       "Strategy        0.040855\n",
       "Shooter         0.036231\n",
       "Racing          0.031333\n",
       "Adventure       0.029439\n",
       "Sports          0.028509\n",
       "Name: jp_sales, dtype: float64"
      ]
     },
     "execution_count": 68,
     "metadata": {},
     "output_type": "execute_result"
    }
   ],
   "source": [
    "data.groupby('genre')['jp_sales'].mean().sort_values(ascending=False)"
   ]
  },
  {
   "cell_type": "markdown",
   "metadata": {},
   "source": [
    "В Японии лидируют по продажам полевые игры (170 тысяч продаж на игру). На втором месте – платформеры (почти 100 тысяч продаж на игру) и далее – симуляторы и файтинги (около 80 тысяч продаж). Шутеры – четвертые с конца по популярности, всего 36 тысяч продаж на игру, значительно меньше, чем в Европе или Северной Америке."
   ]
  },
  {
   "cell_type": "markdown",
   "metadata": {},
   "source": [
    "### Промежуточный итог:\n",
    "- в Европе и Северной Америке самый популярный жанр – шутеры;\n",
    "- в Европе больше, чем в остальных регионах любят гонки, в Северной Америке такая ситуация с файтингами, а в Японии – с ролевыми играми."
   ]
  },
  {
   "cell_type": "markdown",
   "metadata": {},
   "source": [
    "### Платформы"
   ]
  },
  {
   "cell_type": "code",
   "execution_count": 69,
   "metadata": {},
   "outputs": [
    {
     "data": {
      "text/plain": [
       "platform\n",
       "PS4     0.359923\n",
       "X360    0.235141\n",
       "PS3     0.230367\n",
       "XOne    0.208866\n",
       "WiiU    0.170952\n",
       "Wii     0.150254\n",
       "PC      0.145758\n",
       "3DS     0.119668\n",
       "DS      0.050217\n",
       "PSV     0.030466\n",
       "PS2     0.018571\n",
       "PSP     0.005673\n",
       "Name: eu_sales, dtype: float64"
      ]
     },
     "execution_count": 69,
     "metadata": {},
     "output_type": "execute_result"
    }
   ],
   "source": [
    "data.groupby('platform')['eu_sales'].mean().sort_values(ascending=False)"
   ]
  },
  {
   "cell_type": "markdown",
   "metadata": {},
   "source": [
    "Самая популярная платформа в Европе – PlayStation, первое место по продажам занимает восходящий PS4, а третье закатный PS3. Суммарно это около 600 тысяч скачиваний на игру. Следующими востребованы X360 и XOne."
   ]
  },
  {
   "cell_type": "code",
   "execution_count": 70,
   "metadata": {},
   "outputs": [
    {
     "data": {
      "text/plain": [
       "platform\n",
       "X360    0.455422\n",
       "XOne    0.377004\n",
       "PS4     0.277398\n",
       "WiiU    0.259184\n",
       "Wii     0.246497\n",
       "PS3     0.237655\n",
       "3DS     0.161426\n",
       "DS      0.102500\n",
       "PC      0.076812\n",
       "PSV     0.029068\n",
       "PS2     0.018571\n",
       "PSP     0.007019\n",
       "Name: na_sales, dtype: float64"
      ]
     },
     "execution_count": 70,
     "metadata": {},
     "output_type": "execute_result"
    }
   ],
   "source": [
    "data.groupby('platform')['na_sales'].mean().sort_values(ascending=False)"
   ]
  },
  {
   "cell_type": "markdown",
   "metadata": {},
   "source": [
    "Самая популярная платформа в Северной Америке – Xbox (суммарно почти 8 миллионов скачиваний на игру). Лидирует уходящий X360 (450 тысяч скачиваний на игру), ему в спину дышит восходящий XOne (380 тысяч скачиваний)."
   ]
  },
  {
   "cell_type": "code",
   "execution_count": 71,
   "metadata": {},
   "outputs": [
    {
     "data": {
      "text/plain": [
       "platform\n",
       "3DS     0.196523\n",
       "WiiU    0.088503\n",
       "PSP     0.077051\n",
       "PS3     0.069760\n",
       "PSV     0.050909\n",
       "Wii     0.045533\n",
       "DS      0.043696\n",
       "PS4     0.040714\n",
       "PS2     0.012857\n",
       "X360    0.006727\n",
       "XOne    0.001377\n",
       "PC      0.000000\n",
       "Name: jp_sales, dtype: float64"
      ]
     },
     "execution_count": 71,
     "metadata": {},
     "output_type": "execute_result"
    }
   ],
   "source": [
    "data.groupby('platform')['jp_sales'].mean().sort_values(ascending=False)"
   ]
  },
  {
   "cell_type": "code",
   "execution_count": 72,
   "metadata": {},
   "outputs": [
    {
     "data": {
      "image/png": "[encoded data removed]",
      "text/plain": [
       "<Figure size 720x216 with 1 Axes>"
      ]
     },
     "metadata": {
      "needs_background": "light"
     },
     "output_type": "display_data"
    }
   ],
   "source": [
    "data.query('platform == \"3DS\"').groupby('release_year')['name'].count().plot(figsize=(10,3), legend=True, label=i)\n",
    "plt.title('Релизы 3DS')\n",
    "plt.xlabel('годы')\n",
    "plt.ylabel('релизы')\n",
    "plt.show()"
   ]
  },
  {
   "cell_type": "markdown",
   "metadata": {},
   "source": [
    "Самая популярная платформа в Японии – 3DS – почти 200 тысяч скачиваний на игру. При этом, в анализируемый период Nintendo 3DS наблюдает свой финал. Компания Nintendo в 2020 году объявила о закрытии платформы. Следующая по популярности платформа – Nintendo WiiU (90 тысяч скачиваний), это одна из новых платформ, которой в актуальном периоде не удалось достигнуть, в отличие от конкурентов PS4 и XOne."
   ]
  },
  {
   "cell_type": "markdown",
   "metadata": {},
   "source": [
    "### Промежуточный итог:\n",
    "- в Северной Америке охотнее играют в платформы XBox, в Европе – в PlayStation, в Японии – в Nintendo."
   ]
  },
  {
   "cell_type": "code",
   "execution_count": 73,
   "metadata": {},
   "outputs": [
    {
     "data": {
      "image/png": "[encoded data removed]",
      "text/plain": [
       "<Figure size 1152x432 with 3 Axes>"
      ]
     },
     "metadata": {
      "needs_background": "light"
     },
     "output_type": "display_data"
    }
   ],
   "source": [
    "import seaborn as sns\n",
    "\n",
    "fig, ax = plt.subplots(figsize=(16, 6), ncols=3, sharey=True)\n",
    "for icolumn, column in enumerate(['eu_sales', 'na_sales', 'jp_sales']):\n",
    "    sns.boxplot(data=data, x='rating', y=column, ax=ax[icolumn])\n",
    "    ax[icolumn].set_yscale('log')\n",
    "    ax[icolumn].set_title(column)\n",
    "    "
   ]
  },
  {
   "cell_type": "markdown",
   "metadata": {},
   "source": [
    "На графиках мы видим, что продажи по категориям распределяются не равноценно. Во всех регионах игры категории M (игры для людей старше 17) – самые востребованный по сравнению с играми другой маркировки. Самые длиные \"хвосты\" на боксплотах во всех регионах имеют игры категории E (для всех) – в этом сегменте есть громкие хиты с очень высокими продажами."
   ]
  },
  {
   "cell_type": "markdown",
   "metadata": {},
   "source": [
    "### Промежуточный итог:\n",
    "- самые востребованные во всех регионах игры категории М (для людей старше 17, в эту категорию входят шутеры)."
   ]
  },
  {
   "cell_type": "markdown",
   "metadata": {},
   "source": [
    "<a id='6-bullet'></a>\n",
    "## 3.3 Проверка гипотез"
   ]
  },
  {
   "cell_type": "markdown",
   "metadata": {},
   "source": [
    "### Средние пользовательские рейтинги платформ Xbox One и PC одинаковые"
   ]
  },
  {
   "cell_type": "markdown",
   "metadata": {},
   "source": [
    "Нулевая гипотеза: средние пользовательские рейтинги платформ Xbox One и PC одинаковые.\n",
    "\n",
    "Альтернативная гипотеза: средние пользовательские рейтинги платформ Xbox One и PC различаются."
   ]
  },
  {
   "cell_type": "code",
   "execution_count": 74,
   "metadata": {},
   "outputs": [
    {
     "data": {
      "text/plain": [
       "array(['PS3', 'X360', 'PS4', '3DS', 'Wii', 'DS', 'XOne', 'WiiU', 'PC',\n",
       "       'PSV', 'PSP', 'PS2'], dtype=object)"
      ]
     },
     "execution_count": 74,
     "metadata": {},
     "output_type": "execute_result"
    }
   ],
   "source": [
    "data['platform'].unique()"
   ]
  },
  {
   "cell_type": "code",
   "execution_count": 75,
   "metadata": {},
   "outputs": [
    {
     "data": {
      "text/plain": [
       "Index(['name', 'platform', 'release_year', 'genre', 'na_sales', 'eu_sales',\n",
       "       'jp_sales', 'other_sales', 'critic_score', 'user_score', 'rating',\n",
       "       'all_sales'],\n",
       "      dtype='object')"
      ]
     },
     "execution_count": 75,
     "metadata": {},
     "output_type": "execute_result"
    }
   ],
   "source": [
    "data.columns"
   ]
  },
  {
   "cell_type": "code",
   "execution_count": 76,
   "metadata": {},
   "outputs": [
    {
     "data": {
      "text/plain": [
       "(2.2709461303222755, 2.3299871336463687)"
      ]
     },
     "execution_count": 76,
     "metadata": {},
     "output_type": "execute_result"
    }
   ],
   "source": [
    "xbox_data = data.query('platform in [\"X360\", \"XB\", \"XOne\"]')\n",
    "ps_data = data.query('platform in [\"PSV\", \"PS2\", \"PS3\", \"PSP\", \"PS4\"]')\n",
    "\n",
    "users_xbox_var = np.var(xbox_data['user_score'], ddof=1)\n",
    "users_ps_var = np.var(ps_data['user_score'], ddof=1)\n",
    "\n",
    "users_xbox_var, users_ps_var"
   ]
  },
  {
   "cell_type": "code",
   "execution_count": 77,
   "metadata": {},
   "outputs": [
    {
     "data": {
      "text/plain": [
       "(6.394871794871793, 6.776766467065871)"
      ]
     },
     "execution_count": 77,
     "metadata": {},
     "output_type": "execute_result"
    }
   ],
   "source": [
    "xbox_data['user_score'].mean(), ps_data['user_score'].mean()"
   ]
  },
  {
   "cell_type": "code",
   "execution_count": 78,
   "metadata": {},
   "outputs": [
    {
     "data": {
      "text/plain": [
       "-2.5339626331625063"
      ]
     },
     "execution_count": 78,
     "metadata": {},
     "output_type": "execute_result"
    }
   ],
   "source": [
    "(users_xbox_var-users_ps_var)/users_ps_var*100"
   ]
  },
  {
   "cell_type": "markdown",
   "metadata": {},
   "source": [
    "Выборки отличаются друг от друга менее, чем на 5%."
   ]
  },
  {
   "cell_type": "code",
   "execution_count": 79,
   "metadata": {},
   "outputs": [
    {
     "name": "stdout",
     "output_type": "stream",
     "text": [
      "p-значение: nan\n",
      "Не получилось отвергнуть нулевую гипотезу\n"
     ]
    }
   ],
   "source": [
    "alpha = .05\n",
    "\n",
    "results = st.ttest_ind(\n",
    "    xbox_data['user_score'], \n",
    "    ps_data['user_score'],\n",
    "    equal_var=True)\n",
    "\n",
    "print('p-значение:', results.pvalue)\n",
    "\n",
    "if (results.pvalue < alpha):\n",
    "    print(\"Отвергаем нулевую гипотезу\")\n",
    "else:\n",
    "    print(\"Не получилось отвергнуть нулевую гипотезу\") "
   ]
  },
  {
   "cell_type": "markdown",
   "metadata": {},
   "source": [
    "Средние пользовательские рейтинги платформ Xbox One и PC одинаковы."
   ]
  },
  {
   "cell_type": "markdown",
   "metadata": {},
   "source": [
    "### Средние пользовательские рейтинги жанров Action (англ. «действие», экшен-игры) и Sports (англ. «спортивные соревнования») разные."
   ]
  },
  {
   "cell_type": "markdown",
   "metadata": {},
   "source": [
    "Нулевая гипотеза: средние пользовательские рейтинги жанров Action и Sports одинаковые.\n",
    "\n",
    "Альтернативная гипотеза: средние пользовательские рейтинги жанров Action и Sports одинаковые."
   ]
  },
  {
   "cell_type": "code",
   "execution_count": 80,
   "metadata": {},
   "outputs": [
    {
     "data": {
      "text/plain": [
       "(1.8118770103036566, 2.882509540401525)"
      ]
     },
     "execution_count": 80,
     "metadata": {},
     "output_type": "execute_result"
    }
   ],
   "source": [
    "action_data = data.query('genre == \"Action\"')\n",
    "sports_data = data.query('genre == \"Sports\"')\n",
    "\n",
    "action_data_var = np.var(action_data['user_score'], ddof=1)\n",
    "sports_data_var = np.var(sports_data['user_score'], ddof=1)\n",
    "\n",
    "action_data_var, sports_data_var"
   ]
  },
  {
   "cell_type": "code",
   "execution_count": 81,
   "metadata": {},
   "outputs": [
    {
     "data": {
      "text/plain": [
       "(6.775903614457846, 5.650813008130081)"
      ]
     },
     "execution_count": 81,
     "metadata": {},
     "output_type": "execute_result"
    }
   ],
   "source": [
    "action_data['user_score'].mean(), sports_data['user_score'].mean()"
   ]
  },
  {
   "cell_type": "code",
   "execution_count": 82,
   "metadata": {},
   "outputs": [
    {
     "data": {
      "text/plain": [
       "-37.14237594331544"
      ]
     },
     "execution_count": 82,
     "metadata": {},
     "output_type": "execute_result"
    }
   ],
   "source": [
    "(action_data_var-sports_data_var)/sports_data_var*100"
   ]
  },
  {
   "cell_type": "markdown",
   "metadata": {},
   "source": [
    "Выборки отличаются друг от друга более, чем на 5%."
   ]
  },
  {
   "cell_type": "code",
   "execution_count": 83,
   "metadata": {},
   "outputs": [
    {
     "name": "stdout",
     "output_type": "stream",
     "text": [
      "p-значение: nan\n",
      "Не получилось отвергнуть нулевую гипотезу\n"
     ]
    }
   ],
   "source": [
    "alpha = .05\n",
    "\n",
    "results = st.ttest_ind(\n",
    "    action_data['user_score'], \n",
    "    sports_data['user_score'],\n",
    "    equal_var=False)\n",
    "\n",
    "print('p-значение:', results.pvalue)\n",
    "\n",
    "if (results.pvalue < alpha):\n",
    "    print(\"Отвергаем нулевую гипотезу\")\n",
    "else:\n",
    "    print(\"Не получилось отвергнуть нулевую гипотезу\") "
   ]
  },
  {
   "cell_type": "markdown",
   "metadata": {},
   "source": [
    "Cредние пользовательские рейтинги жанров Action и Sports одинаковые."
   ]
  },
  {
   "cell_type": "markdown",
   "metadata": {},
   "source": [
    "<a id='7-bullet'></a>\n",
    "# Выводы"
   ]
  },
  {
   "cell_type": "markdown",
   "metadata": {},
   "source": [
    "- На этапе подготовки данных в датасете было обнаружено большое количество пропусков в колонках с пользовательскими оценками, было принято решение оставить пропуски и не заполнять их средними значениями.\n",
    "\n",
    "- Анализ истории релизов компьютерных игр на различных платформах показал:\n",
    "    - в среднем платформа существует от 8 до 12 лет, пик релизов приходится на середину этого временного промежутка;\n",
    "    - упадок одной платформы подхватывает рост другой платформы из её же семейства: Xbox, PS или Nintendo;\n",
    "    - актуальный период для анализа – 2011-2016 гг.: в эти годы укладывается конце жизненного цикл популярных прежде платформ, а также есть хвосты растущих платформ;\n",
    "    - наибольшее внимание \"Стримчику\" стоит обращать на платформы, которые появились до 6 лет назад, дальнейшая жизнь платформы – угасание, стоит обращать внимание на альтернативу, которую готовит ей её \"семейство\";\n",
    "    - актуальные для 2016 года восходящие платформы – это PS4, XOne. Еще одна молодая платформа WiiU – в отличие отконкурентов не показала роста.\n",
    "    \n",
    "- Анализ взаимосвязи отзывов общественности и количества проданных копий показал:\n",
    "    - отзывы критиков влияют на продажи, а пользователей – нет.\n",
    "    \n",
    "    \n",
    "- Самые прибыльные жанры игр: шутеры, спортивные игры и файтинги.\n",
    "\n",
    "\n",
    "- Самые низкие продажи наблюдаются в жанрах: приключения, паззл и стратегии.\n",
    "    \n",
    "    \n",
    "- В Европе самые популярные жанры: шутеры, платформеры, гонки и спортивные игры. Самые популярные платформы в Европе – из семейства PS.\n",
    "\n",
    "- В Северной Америке самый популярный жанр – шутер, следом идут спортивные игры, платформеры и файтинги. Играют американцы в основном на платформах семейства Xbox.\n",
    "\n",
    "- В Японии самый популярный жанр – ролевая игра. Кроме того, японцы – фанаты Nintendo, особенно престарелой платформы 3DS, которую закрыли в 2020 году.\n",
    "\n",
    "- Рейтинг ESRB, то есть возрастная категория фильма, слабо влият на продажи. Можно выделить категорию M (Mature, для людей старше 17 лет, в эту категорию входят игры с изображениям насилия, в том числе шутеры) как сегмент, в котором продажи немного выше, чем в остальных категориях.\n",
    "\n",
    "- Проверка гипотез показала, что пользователи одинаково относятся к платформам из семейств XBox и PS. Такая же ситуация c тем, как пользователи оценивают популярные жанры Action и Sports.\n",
    "\n",
    "\n",
    "<font color='light-blue'>Интернет-магазину \"Стримчик\", который продает по всему миру компьютерные игры, при планировании рекламных бюджетов необходимо:</font> \n",
    "    - обращать внимание на жизненный цикл платформы, на которой происходит релиз игры (не стоит вкладываться в закатные платформы, вместе с падением количества релизов, у них происходит падение продаж);\n",
    "    - обращать внимание на предпочтения аудитории, в регионе которой планируется рекламная кампания;\n",
    "    - присматриваться к оценкам критиков и игнорировать оценки пользователей."
   ]
  }
 ],
 "metadata": {
  "kernelspec": {
   "display_name": "Python 3",
   "language": "python",
   "name": "python3"
  },
  "language_info": {
   "codemirror_mode": {
    "name": "ipython",
    "version": 3
   },
   "file_extension": ".py",
   "mimetype": "text/x-python",
   "name": "python",
   "nbconvert_exporter": "python",
   "pygments_lexer": "ipython3",
   "version": "3.7.0"
  }
 },
 "nbformat": 4,
 "nbformat_minor": 2
}
